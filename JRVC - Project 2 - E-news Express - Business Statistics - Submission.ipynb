{
 "cells": [
  {
   "cell_type": "markdown",
   "metadata": {},
   "source": [
    "<h1><center><font size=10>Data Science and Business Analytics</center></font></h1>\n",
    "<h1><center>Project 2 - Business Statistics: E-news Express</center></h1>\n",
    "<h1><center>Jorge Ramon Vazquez Campero</center></h1>"
   ]
  },
  {
   "cell_type": "markdown",
   "metadata": {},
   "source": [
    "<center><img src=\"https://vignette.wikia.nocookie.net/logopedia/images/1/18/E!_News_2012_Logo.png/revision/latest?cb=20161004214546\" width=\"600\" height=\"300\"></center>\n",
    "\n",
    "---\n",
    "---"
   ]
  },
  {
   "cell_type": "markdown",
   "metadata": {},
   "source": [
    "## Table of Contents\n",
    "\n",
    "- ### [Problem Statement](#problem-statement)\n",
    "  - [Business Context](#business-context)\n",
    "  - [Objective](#objective)\n",
    "  - [Data Dictionary](#data-dictionary)\n",
    "\n",
    "- ### [Explore the Dataset and Extract Insights Using Exploratory Data Analysis](#explore-the-dataset-and-extract-insights-using-exploratory-data-analysis)\n",
    "  - [Data Overview](#data-overview)\n",
    "  - [Check for Missing Values](#check-for-missing-values)\n",
    "  - [Check for Duplicates](#check-for-duplicates)\n",
    "\n",
    "- ### [Univariate Analysis](#univariate-analysis)\n",
    "\n",
    "- ### [Bivariate Analysis](#bivariate-analysis)\n",
    "\n",
    "- ### [Hypothesis Testing](#hypothesis-testing)\n",
    "  1. #### [Do the users spend more time on the new landing page than the existing landing page?](#1-do-the-users-spend-more-time-on-the-new-landing-page-than-the-existing-landing-page)\n",
    "      - [Step 1: Define the Null and Alternate Hypothesis](#step-1-define-the-null-and-alternate-hypothesis)\n",
    "      - [Step 2: Select Appropriate Test](#step-2-select-appropriate-test)\n",
    "      - [Step 3: Decide the Significance Level](#step-3-decide-the-significance-level)\n",
    "      - [Step 4: Collect and Prepare Data](#step-4-collect-and-prepare-data)\n",
    "      - [Step 5: Calculate the p-value](#step-5-calculate-the-p-value)\n",
    "      - [Step 6: Compare the p-value with $\\alpha$](#step-6-compare-the-p-value-with-alpha)\n",
    "      - [Step 7: Draw Inference](#step-7-draw-inference)\n",
    "  \n",
    "  2. #### [Is the conversion rate (the proportion of users who visit the landing page and get converted) for the new page greater than the conversion rate for the old page?](#2-is-the-conversion-rate-the-proportion-of-users-who-visit-the-landing-page-and-get-converted-for-the-new-page-greater-than-the-conversion-rate-for-the-old-page)\n",
    "  \n",
    "  3. #### [Does the converted status depend on the preferred language?](#3-does-the-converted-status-depend-on-the-preferred-language)\n",
    "  \n",
    "  4. #### [ Is the time spent on the new page the same for the different language users?](#4-is-the-time-spent-on-the-new-page-the-same-for-the-different-language-users)\n",
    "\n",
    "- ### [Conclusion and Business Recommendations](#conclusion-and-business-recommendations)\n",
    "\n",
    "---\n",
    "---"
   ]
  },
  {
   "cell_type": "markdown",
   "metadata": {},
   "source": [
    "## Problem Statement <a id=\"problem-statement\"></a>"
   ]
  },
  {
   "cell_type": "markdown",
   "metadata": {},
   "source": [
    "### Business Context <a id=\"business-context\"></a>\n",
    "\n",
    "The advent of e-news, or electronic news, portals has offered us a great opportunity to quickly get updates on the day-to-day events occurring globally. The information on these portals is retrieved electronically from online databases, processed using a variety of software, and then transmitted to the users. There are multiple advantages of transmitting news electronically, like faster access to the content and the ability to utilize different technologies such as audio, graphics, video, and other interactive elements that are either not being used or aren’t common yet in traditional newspapers.\n",
    "\n",
    "E-news Express, an online news portal, aims to expand its business by acquiring new subscribers. With every visitor to the website taking certain actions based on their interest, the company plans to analyze these actions to understand user interests and determine how to drive better engagement.  The executives at E-news Express are of the opinion that there has been a decline in new monthly subscribers compared to the past year because the current webpage is not designed well enough in terms of the outline & recommended content to keep customers engaged long enough to make a decision to subscribe.\n",
    "\n",
    "[Companies often analyze user responses to two variants of a product to decide which of the two variants is more effective. This experimental technique, known as A/B testing, is used to determine whether a new feature attracts users based on a chosen metric.]"
   ]
  },
  {
   "cell_type": "markdown",
   "metadata": {},
   "source": [
    "### Objective <a id=\"objective\"></a>\n",
    "\n",
    "The design team of the company has researched and created a new landing page that has a new outline & more relevant content shown compared to the old page. In order to test the effectiveness of the new landing page in gathering new subscribers, the Data Science team conducted an experiment by randomly selecting 100 users and dividing them equally into two groups. The existing landing page was served to the first group (control group) and the new landing page to the second group (treatment group). Data regarding the interaction of users in both groups with the two versions of the landing page was collected. Being a data scientist in E-news Express, you have been asked to explore the data and perform a statistical analysis (at a significance level of 5%) to determine the effectiveness of the new landing page in gathering new subscribers for the news portal by answering the following questions:\n",
    "\n",
    "1. Do the users spend more time on the new landing page than on the existing landing page?\n",
    "\n",
    "2. Is the conversion rate (the proportion of users who visit the landing page and get converted) for the new page greater than the conversion rate for the old page?\n",
    "\n",
    "3. Does the converted status depend on the preferred language? [Hint: Create a contingency table using the pandas.crosstab() function]\n",
    "\n",
    "4. Is the time spent on the new page the same for the different language users?"
   ]
  },
  {
   "cell_type": "markdown",
   "metadata": {},
   "source": [
    "### Data Dictionary <a id=\"data-dictionary\"></a>\n",
    "\n",
    "The data contains information regarding the interaction of users in both groups with the two versions of the landing page.\n",
    "\n",
    "1. **`user_id`** - Unique user ID of the person visiting the website\n",
    "\n",
    "2. **`group`** - Whether the user belongs to the first group (control) or the second group (treatment)\n",
    "\n",
    "3. **`landing_page`** - Whether the landing page is new or old\n",
    "\n",
    "4. **`time_spent_on_the_page`** - Time (in minutes) spent by the user on the landing page\n",
    "\n",
    "5. **`converted`** - Whether the user gets converted to a subscriber of the news portal or not\n",
    "\n",
    "6. **`language_preferred`** - Language chosen by the user to view the landing page\n",
    "\n",
    "---"
   ]
  },
  {
   "cell_type": "markdown",
   "metadata": {},
   "source": [
    "### Import all the necessary libraries"
   ]
  },
  {
   "cell_type": "code",
   "execution_count": 10,
   "metadata": {},
   "outputs": [],
   "source": [
    "# Installing the libraries with the specified version.\n",
    "!pip install numpy==1.25.2 pandas==1.5.3 matplotlib==3.7.1 seaborn==0.13.1 scipy==1.11.4 -q --user"
   ]
  },
  {
   "cell_type": "markdown",
   "metadata": {},
   "source": [
    "**Note**: *After running the above cell, kindly restart the notebook kernel and run all cells sequentially from the start again.*"
   ]
  },
  {
   "cell_type": "code",
   "execution_count": 12,
   "metadata": {},
   "outputs": [],
   "source": [
    "# Import libraries for data manipulation\n",
    "import numpy as np\n",
    "import pandas as pd\n",
    "\n",
    "# Import libraries for data visualization\n",
    "import matplotlib.pyplot as plt\n",
    "import seaborn as sns\n",
    "import plotly.express as px\n",
    "\n",
    "# Suppress warnings to prevent them from being displayed during code execution\n",
    "import warnings\n",
    "warnings.filterwarnings('ignore')\n",
    "\n",
    "# Enable the inline plotting of matplotlib figures directly within the notebook\n",
    "%matplotlib inline\n",
    "\n",
    "# Set the display format for float values to three decimal places\n",
    "pd.options.display.float_format = '{:.2f}'.format\n",
    "\n",
    "# Distribution Libraries\n",
    "import scipy.stats as stats\n",
    "\n",
    "# Import the required functions\n",
    "from scipy.stats import norm, uniform, binom, expon, t"
   ]
  },
  {
   "cell_type": "markdown",
   "metadata": {},
   "source": [
    "### Reading the Data into a DataFrame"
   ]
  },
  {
   "cell_type": "code",
   "execution_count": 14,
   "metadata": {},
   "outputs": [],
   "source": [
    "# complete the code below to load the dataset\n",
    "df_abtest = pd.read_csv('abtest.csv')\n",
    "\n",
    "# Copying data to another variable to avoid any changes to the original data.\n",
    "df = df_abtest.copy()"
   ]
  },
  {
   "cell_type": "markdown",
   "metadata": {},
   "source": [
    "---\n",
    "\n",
    "## Explore the Dataset and Extract Insights Using Exploratory Data Analysis <a id=\"explore-the-dataset-and-extract-insights-using-exploratory-data-analysis\"></a>\n"
   ]
  },
  {
   "cell_type": "markdown",
   "metadata": {},
   "source": [
    "### Data Overview <a id=\"data-overview\"></a>\n",
    "In this section, we will provide an overview of the dataset. This includes:\n",
    "- The number of records and features in the dataset.\n",
    "- The types of variables present.\n",
    "- A quick glance at the first few rows of the dataset to understand its structure."
   ]
  },
  {
   "cell_type": "markdown",
   "metadata": {},
   "source": [
    "The initial steps to get an overview of any dataset is to:\n",
    "- Observe the first and last rows of the dataset.\n",
    "- Get information about the shape of the data set.\n",
    "- Get a statistical summary for the variables. \n",
    "- Check for missing values. \n",
    "- Check for duplicates."
   ]
  },
  {
   "cell_type": "markdown",
   "metadata": {},
   "source": [
    "First and last rows of the dataset"
   ]
  },
  {
   "cell_type": "code",
   "execution_count": 19,
   "metadata": {},
   "outputs": [
    {
     "data": {
      "text/html": [
       "<div>\n",
       "<style scoped>\n",
       "    .dataframe tbody tr th:only-of-type {\n",
       "        vertical-align: middle;\n",
       "    }\n",
       "\n",
       "    .dataframe tbody tr th {\n",
       "        vertical-align: top;\n",
       "    }\n",
       "\n",
       "    .dataframe thead th {\n",
       "        text-align: right;\n",
       "    }\n",
       "</style>\n",
       "<table border=\"1\" class=\"dataframe\">\n",
       "  <thead>\n",
       "    <tr style=\"text-align: right;\">\n",
       "      <th></th>\n",
       "      <th>user_id</th>\n",
       "      <th>group</th>\n",
       "      <th>landing_page</th>\n",
       "      <th>time_spent_on_the_page</th>\n",
       "      <th>converted</th>\n",
       "      <th>language_preferred</th>\n",
       "    </tr>\n",
       "  </thead>\n",
       "  <tbody>\n",
       "    <tr>\n",
       "      <th>0</th>\n",
       "      <td>546592</td>\n",
       "      <td>control</td>\n",
       "      <td>old</td>\n",
       "      <td>3.48</td>\n",
       "      <td>no</td>\n",
       "      <td>Spanish</td>\n",
       "    </tr>\n",
       "    <tr>\n",
       "      <th>1</th>\n",
       "      <td>546468</td>\n",
       "      <td>treatment</td>\n",
       "      <td>new</td>\n",
       "      <td>7.13</td>\n",
       "      <td>yes</td>\n",
       "      <td>English</td>\n",
       "    </tr>\n",
       "    <tr>\n",
       "      <th>2</th>\n",
       "      <td>546462</td>\n",
       "      <td>treatment</td>\n",
       "      <td>new</td>\n",
       "      <td>4.40</td>\n",
       "      <td>no</td>\n",
       "      <td>Spanish</td>\n",
       "    </tr>\n",
       "    <tr>\n",
       "      <th>3</th>\n",
       "      <td>546567</td>\n",
       "      <td>control</td>\n",
       "      <td>old</td>\n",
       "      <td>3.02</td>\n",
       "      <td>no</td>\n",
       "      <td>French</td>\n",
       "    </tr>\n",
       "    <tr>\n",
       "      <th>4</th>\n",
       "      <td>546459</td>\n",
       "      <td>treatment</td>\n",
       "      <td>new</td>\n",
       "      <td>4.75</td>\n",
       "      <td>yes</td>\n",
       "      <td>Spanish</td>\n",
       "    </tr>\n",
       "  </tbody>\n",
       "</table>\n",
       "</div>"
      ],
      "text/plain": [
       "   user_id      group landing_page  time_spent_on_the_page converted  \\\n",
       "0   546592    control          old                    3.48        no   \n",
       "1   546468  treatment          new                    7.13       yes   \n",
       "2   546462  treatment          new                    4.40        no   \n",
       "3   546567    control          old                    3.02        no   \n",
       "4   546459  treatment          new                    4.75       yes   \n",
       "\n",
       "  language_preferred  \n",
       "0            Spanish  \n",
       "1            English  \n",
       "2            Spanish  \n",
       "3             French  \n",
       "4            Spanish  "
      ]
     },
     "execution_count": 19,
     "metadata": {},
     "output_type": "execute_result"
    }
   ],
   "source": [
    "# Display the first few rows of the dataset\n",
    "df.head()"
   ]
  },
  {
   "cell_type": "code",
   "execution_count": 20,
   "metadata": {},
   "outputs": [
    {
     "data": {
      "text/html": [
       "<div>\n",
       "<style scoped>\n",
       "    .dataframe tbody tr th:only-of-type {\n",
       "        vertical-align: middle;\n",
       "    }\n",
       "\n",
       "    .dataframe tbody tr th {\n",
       "        vertical-align: top;\n",
       "    }\n",
       "\n",
       "    .dataframe thead th {\n",
       "        text-align: right;\n",
       "    }\n",
       "</style>\n",
       "<table border=\"1\" class=\"dataframe\">\n",
       "  <thead>\n",
       "    <tr style=\"text-align: right;\">\n",
       "      <th></th>\n",
       "      <th>user_id</th>\n",
       "      <th>group</th>\n",
       "      <th>landing_page</th>\n",
       "      <th>time_spent_on_the_page</th>\n",
       "      <th>converted</th>\n",
       "      <th>language_preferred</th>\n",
       "    </tr>\n",
       "  </thead>\n",
       "  <tbody>\n",
       "    <tr>\n",
       "      <th>95</th>\n",
       "      <td>546446</td>\n",
       "      <td>treatment</td>\n",
       "      <td>new</td>\n",
       "      <td>5.15</td>\n",
       "      <td>no</td>\n",
       "      <td>Spanish</td>\n",
       "    </tr>\n",
       "    <tr>\n",
       "      <th>96</th>\n",
       "      <td>546544</td>\n",
       "      <td>control</td>\n",
       "      <td>old</td>\n",
       "      <td>6.52</td>\n",
       "      <td>yes</td>\n",
       "      <td>English</td>\n",
       "    </tr>\n",
       "    <tr>\n",
       "      <th>97</th>\n",
       "      <td>546472</td>\n",
       "      <td>treatment</td>\n",
       "      <td>new</td>\n",
       "      <td>7.07</td>\n",
       "      <td>yes</td>\n",
       "      <td>Spanish</td>\n",
       "    </tr>\n",
       "    <tr>\n",
       "      <th>98</th>\n",
       "      <td>546481</td>\n",
       "      <td>treatment</td>\n",
       "      <td>new</td>\n",
       "      <td>6.20</td>\n",
       "      <td>yes</td>\n",
       "      <td>Spanish</td>\n",
       "    </tr>\n",
       "    <tr>\n",
       "      <th>99</th>\n",
       "      <td>546483</td>\n",
       "      <td>treatment</td>\n",
       "      <td>new</td>\n",
       "      <td>5.86</td>\n",
       "      <td>yes</td>\n",
       "      <td>English</td>\n",
       "    </tr>\n",
       "  </tbody>\n",
       "</table>\n",
       "</div>"
      ],
      "text/plain": [
       "    user_id      group landing_page  time_spent_on_the_page converted  \\\n",
       "95   546446  treatment          new                    5.15        no   \n",
       "96   546544    control          old                    6.52       yes   \n",
       "97   546472  treatment          new                    7.07       yes   \n",
       "98   546481  treatment          new                    6.20       yes   \n",
       "99   546483  treatment          new                    5.86       yes   \n",
       "\n",
       "   language_preferred  \n",
       "95            Spanish  \n",
       "96            English  \n",
       "97            Spanish  \n",
       "98            Spanish  \n",
       "99            English  "
      ]
     },
     "execution_count": 20,
     "metadata": {},
     "output_type": "execute_result"
    }
   ],
   "source": [
    "# Display the first few rows of the dataset\n",
    "df.tail()"
   ]
  },
  {
   "cell_type": "markdown",
   "metadata": {},
   "source": [
    "Get shape and statistical summary of the database"
   ]
  },
  {
   "cell_type": "code",
   "execution_count": 22,
   "metadata": {},
   "outputs": [
    {
     "name": "stdout",
     "output_type": "stream",
     "text": [
      "There are 100 rows and 6 columns.\n"
     ]
    }
   ],
   "source": [
    "# Display the shape of the dataset\n",
    "df.shape\n",
    "print(\"There are\", df.shape[0], 'rows and', df.shape[1], \"columns.\") #shape[0] tells us how many rows and shape[1] how many columns"
   ]
  },
  {
   "cell_type": "code",
   "execution_count": 23,
   "metadata": {},
   "outputs": [
    {
     "name": "stdout",
     "output_type": "stream",
     "text": [
      "<class 'pandas.core.frame.DataFrame'>\n",
      "RangeIndex: 100 entries, 0 to 99\n",
      "Data columns (total 6 columns):\n",
      " #   Column                  Non-Null Count  Dtype  \n",
      "---  ------                  --------------  -----  \n",
      " 0   user_id                 100 non-null    int64  \n",
      " 1   group                   100 non-null    object \n",
      " 2   landing_page            100 non-null    object \n",
      " 3   time_spent_on_the_page  100 non-null    float64\n",
      " 4   converted               100 non-null    object \n",
      " 5   language_preferred      100 non-null    object \n",
      "dtypes: float64(1), int64(1), object(4)\n",
      "memory usage: 4.8+ KB\n"
     ]
    }
   ],
   "source": [
    "# Display the data types of the columns in the dataset\n",
    "df.info()"
   ]
  },
  {
   "cell_type": "code",
   "execution_count": 24,
   "metadata": {},
   "outputs": [
    {
     "data": {
      "text/html": [
       "<div>\n",
       "<style scoped>\n",
       "    .dataframe tbody tr th:only-of-type {\n",
       "        vertical-align: middle;\n",
       "    }\n",
       "\n",
       "    .dataframe tbody tr th {\n",
       "        vertical-align: top;\n",
       "    }\n",
       "\n",
       "    .dataframe thead th {\n",
       "        text-align: right;\n",
       "    }\n",
       "</style>\n",
       "<table border=\"1\" class=\"dataframe\">\n",
       "  <thead>\n",
       "    <tr style=\"text-align: right;\">\n",
       "      <th></th>\n",
       "      <th>count</th>\n",
       "      <th>mean</th>\n",
       "      <th>std</th>\n",
       "      <th>min</th>\n",
       "      <th>25%</th>\n",
       "      <th>50%</th>\n",
       "      <th>75%</th>\n",
       "      <th>max</th>\n",
       "    </tr>\n",
       "  </thead>\n",
       "  <tbody>\n",
       "    <tr>\n",
       "      <th>user_id</th>\n",
       "      <td>100.00</td>\n",
       "      <td>546517.00</td>\n",
       "      <td>52.30</td>\n",
       "      <td>546443.00</td>\n",
       "      <td>546467.75</td>\n",
       "      <td>546492.50</td>\n",
       "      <td>546567.25</td>\n",
       "      <td>546592.00</td>\n",
       "    </tr>\n",
       "    <tr>\n",
       "      <th>time_spent_on_the_page</th>\n",
       "      <td>100.00</td>\n",
       "      <td>5.38</td>\n",
       "      <td>2.38</td>\n",
       "      <td>0.19</td>\n",
       "      <td>3.88</td>\n",
       "      <td>5.42</td>\n",
       "      <td>7.02</td>\n",
       "      <td>10.71</td>\n",
       "    </tr>\n",
       "  </tbody>\n",
       "</table>\n",
       "</div>"
      ],
      "text/plain": [
       "                        count      mean   std       min       25%       50%  \\\n",
       "user_id                100.00 546517.00 52.30 546443.00 546467.75 546492.50   \n",
       "time_spent_on_the_page 100.00      5.38  2.38      0.19      3.88      5.42   \n",
       "\n",
       "                             75%       max  \n",
       "user_id                546567.25 546592.00  \n",
       "time_spent_on_the_page      7.02     10.71  "
      ]
     },
     "execution_count": 24,
     "metadata": {},
     "output_type": "execute_result"
    }
   ],
   "source": [
    "# Display the statistical summary for the dataset\n",
    "df.describe().T "
   ]
  },
  {
   "cell_type": "code",
   "execution_count": 25,
   "metadata": {},
   "outputs": [
    {
     "data": {
      "text/html": [
       "<div>\n",
       "<style scoped>\n",
       "    .dataframe tbody tr th:only-of-type {\n",
       "        vertical-align: middle;\n",
       "    }\n",
       "\n",
       "    .dataframe tbody tr th {\n",
       "        vertical-align: top;\n",
       "    }\n",
       "\n",
       "    .dataframe thead th {\n",
       "        text-align: right;\n",
       "    }\n",
       "</style>\n",
       "<table border=\"1\" class=\"dataframe\">\n",
       "  <thead>\n",
       "    <tr style=\"text-align: right;\">\n",
       "      <th></th>\n",
       "      <th>count</th>\n",
       "      <th>unique</th>\n",
       "      <th>top</th>\n",
       "      <th>freq</th>\n",
       "      <th>mean</th>\n",
       "      <th>std</th>\n",
       "      <th>min</th>\n",
       "      <th>25%</th>\n",
       "      <th>50%</th>\n",
       "      <th>75%</th>\n",
       "      <th>max</th>\n",
       "    </tr>\n",
       "  </thead>\n",
       "  <tbody>\n",
       "    <tr>\n",
       "      <th>user_id</th>\n",
       "      <td>100.00</td>\n",
       "      <td>NaN</td>\n",
       "      <td>NaN</td>\n",
       "      <td>NaN</td>\n",
       "      <td>546517.00</td>\n",
       "      <td>52.30</td>\n",
       "      <td>546443.00</td>\n",
       "      <td>546467.75</td>\n",
       "      <td>546492.50</td>\n",
       "      <td>546567.25</td>\n",
       "      <td>546592.00</td>\n",
       "    </tr>\n",
       "    <tr>\n",
       "      <th>group</th>\n",
       "      <td>100</td>\n",
       "      <td>2</td>\n",
       "      <td>control</td>\n",
       "      <td>50</td>\n",
       "      <td>NaN</td>\n",
       "      <td>NaN</td>\n",
       "      <td>NaN</td>\n",
       "      <td>NaN</td>\n",
       "      <td>NaN</td>\n",
       "      <td>NaN</td>\n",
       "      <td>NaN</td>\n",
       "    </tr>\n",
       "    <tr>\n",
       "      <th>landing_page</th>\n",
       "      <td>100</td>\n",
       "      <td>2</td>\n",
       "      <td>old</td>\n",
       "      <td>50</td>\n",
       "      <td>NaN</td>\n",
       "      <td>NaN</td>\n",
       "      <td>NaN</td>\n",
       "      <td>NaN</td>\n",
       "      <td>NaN</td>\n",
       "      <td>NaN</td>\n",
       "      <td>NaN</td>\n",
       "    </tr>\n",
       "    <tr>\n",
       "      <th>time_spent_on_the_page</th>\n",
       "      <td>100.00</td>\n",
       "      <td>NaN</td>\n",
       "      <td>NaN</td>\n",
       "      <td>NaN</td>\n",
       "      <td>5.38</td>\n",
       "      <td>2.38</td>\n",
       "      <td>0.19</td>\n",
       "      <td>3.88</td>\n",
       "      <td>5.42</td>\n",
       "      <td>7.02</td>\n",
       "      <td>10.71</td>\n",
       "    </tr>\n",
       "    <tr>\n",
       "      <th>converted</th>\n",
       "      <td>100</td>\n",
       "      <td>2</td>\n",
       "      <td>yes</td>\n",
       "      <td>54</td>\n",
       "      <td>NaN</td>\n",
       "      <td>NaN</td>\n",
       "      <td>NaN</td>\n",
       "      <td>NaN</td>\n",
       "      <td>NaN</td>\n",
       "      <td>NaN</td>\n",
       "      <td>NaN</td>\n",
       "    </tr>\n",
       "    <tr>\n",
       "      <th>language_preferred</th>\n",
       "      <td>100</td>\n",
       "      <td>3</td>\n",
       "      <td>Spanish</td>\n",
       "      <td>34</td>\n",
       "      <td>NaN</td>\n",
       "      <td>NaN</td>\n",
       "      <td>NaN</td>\n",
       "      <td>NaN</td>\n",
       "      <td>NaN</td>\n",
       "      <td>NaN</td>\n",
       "      <td>NaN</td>\n",
       "    </tr>\n",
       "  </tbody>\n",
       "</table>\n",
       "</div>"
      ],
      "text/plain": [
       "                        count unique      top freq      mean   std       min  \\\n",
       "user_id                100.00    NaN      NaN  NaN 546517.00 52.30 546443.00   \n",
       "group                     100      2  control   50       NaN   NaN       NaN   \n",
       "landing_page              100      2      old   50       NaN   NaN       NaN   \n",
       "time_spent_on_the_page 100.00    NaN      NaN  NaN      5.38  2.38      0.19   \n",
       "converted                 100      2      yes   54       NaN   NaN       NaN   \n",
       "language_preferred        100      3  Spanish   34       NaN   NaN       NaN   \n",
       "\n",
       "                             25%       50%       75%       max  \n",
       "user_id                546467.75 546492.50 546567.25 546592.00  \n",
       "group                        NaN       NaN       NaN       NaN  \n",
       "landing_page                 NaN       NaN       NaN       NaN  \n",
       "time_spent_on_the_page      3.88      5.42      7.02     10.71  \n",
       "converted                    NaN       NaN       NaN       NaN  \n",
       "language_preferred           NaN       NaN       NaN       NaN  "
      ]
     },
     "execution_count": 25,
     "metadata": {},
     "output_type": "execute_result"
    }
   ],
   "source": [
    "# Display the statistical summary for the dataset\n",
    "df.describe(include='all').T "
   ]
  },
  {
   "cell_type": "markdown",
   "metadata": {},
   "source": [
    "Count each categorical value and count each unique value in them"
   ]
  },
  {
   "cell_type": "code",
   "execution_count": 27,
   "metadata": {},
   "outputs": [
    {
     "name": "stdout",
     "output_type": "stream",
     "text": [
      "control      50\n",
      "treatment    50\n",
      "Name: group, dtype: int64\n",
      "--------------------------------------------------\n",
      "old    50\n",
      "new    50\n",
      "Name: landing_page, dtype: int64\n",
      "--------------------------------------------------\n",
      "yes    54\n",
      "no     46\n",
      "Name: converted, dtype: int64\n",
      "--------------------------------------------------\n",
      "Spanish    34\n",
      "French     34\n",
      "English    32\n",
      "Name: language_preferred, dtype: int64\n",
      "--------------------------------------------------\n"
     ]
    }
   ],
   "source": [
    "# Making a list of all categorical variables\n",
    "cat_cols =  ['group', 'landing_page', 'converted', 'language_preferred']\n",
    "\n",
    "# Iterate through each categorical column and print the count of unique categorical levels, followed by a separator line.\n",
    "for column in cat_cols:\n",
    "    print(df[column].value_counts())\n",
    "    print(\"-\" * 50)"
   ]
  },
  {
   "cell_type": "code",
   "execution_count": 28,
   "metadata": {},
   "outputs": [
    {
     "name": "stdout",
     "output_type": "stream",
     "text": [
      "546592    1\n",
      "546590    1\n",
      "546444    1\n",
      "546452    1\n",
      "546476    1\n",
      "         ..\n",
      "546464    1\n",
      "546575    1\n",
      "546471    1\n",
      "546586    1\n",
      "546483    1\n",
      "Name: user_id, Length: 100, dtype: int64\n",
      "--------------------------------------------------\n",
      "6.04    2\n",
      "4.75    2\n",
      "7.16    2\n",
      "3.88    2\n",
      "5.86    2\n",
      "       ..\n",
      "3.52    1\n",
      "5.41    1\n",
      "4.28    1\n",
      "7.81    1\n",
      "6.20    1\n",
      "Name: time_spent_on_the_page, Length: 94, dtype: int64\n",
      "--------------------------------------------------\n"
     ]
    }
   ],
   "source": [
    "# Making a list of all numerical variables\n",
    "num_cols =  ['user_id', 'time_spent_on_the_page']\n",
    "\n",
    "# Iterate through each numerical column and print the count of unique numerical, followed by a separator line.\n",
    "for column in num_cols:\n",
    "    print(df[column].value_counts())\n",
    "    print(\"-\" * 50)"
   ]
  },
  {
   "cell_type": "markdown",
   "metadata": {},
   "source": [
    "Observations:\n",
    "   * Initial data overview shows that the data set consists of 100 rows and 6 columns.\n",
    "   * Among them, we have quite a few categorical columns such as group, landing_page, converted, and language_preferred.\n",
    "   * Additionally, we are able to confirm the following:\n",
    "      * We have a control and treatment sample of equal size (50). \n",
    "      * The information of wether the group member is directed to the old or new landing page. \n",
    "      * Wether the group member was converted. \n",
    "      * Wether the language spoken by the member is Spanish, French, or English."
   ]
  },
  {
   "cell_type": "markdown",
   "metadata": {},
   "source": [
    "### Check for Missing Values <a id=\"check-for-missing-values\"></a>\n",
    "We will check for any missing values in the dataset. Missing values can affect our analysis, so we need to identify and handle them appropriately. This can involve:\n",
    "- Counting the number of missing values in each column.\n",
    "- Deciding on a strategy to handle missing values, such as imputation or removal."
   ]
  },
  {
   "cell_type": "code",
   "execution_count": 31,
   "metadata": {},
   "outputs": [
    {
     "name": "stdout",
     "output_type": "stream",
     "text": [
      "The number of missing values on each column of the data set is:\n"
     ]
    },
    {
     "data": {
      "text/plain": [
       "user_id                   0\n",
       "group                     0\n",
       "landing_page              0\n",
       "time_spent_on_the_page    0\n",
       "converted                 0\n",
       "language_preferred        0\n",
       "dtype: int64"
      ]
     },
     "execution_count": 31,
     "metadata": {},
     "output_type": "execute_result"
    }
   ],
   "source": [
    "# Checking missing values across each column\n",
    "missing_values = df.isnull().sum()\n",
    "\n",
    "print('The number of missing values on each column of the data set is:');\n",
    "\n",
    "missing_values"
   ]
  },
  {
   "cell_type": "markdown",
   "metadata": {},
   "source": [
    "Observations \n",
    "* A comprehensive analysis of missing values across all columns revealed no missing values at all.\n",
    "* The integrity of the dataset is strong and there is no need for imputation since there are no missing values."
   ]
  },
  {
   "cell_type": "markdown",
   "metadata": {},
   "source": [
    "### Check for Duplicates <a id=\"check-for-duplicates\"></a>\n",
    "We will check for and handle any duplicate records in the dataset. Duplicate records can skew our analysis results. Steps include:\n",
    "- Identifying duplicate records.\n",
    "- Removing duplicates to ensure the dataset is clean."
   ]
  },
  {
   "cell_type": "code",
   "execution_count": 34,
   "metadata": {},
   "outputs": [
    {
     "name": "stdout",
     "output_type": "stream",
     "text": [
      "The number of duplicate values on the data set is: 0\n"
     ]
    }
   ],
   "source": [
    "# Check for complete duplicate records\n",
    "duplicate_records = df.duplicated().sum()\n",
    "print('The number of duplicate values on the data set is:', duplicate_records)"
   ]
  },
  {
   "cell_type": "code",
   "execution_count": 35,
   "metadata": {},
   "outputs": [
    {
     "name": "stdout",
     "output_type": "stream",
     "text": [
      "Duplicates in user_id: 0\n",
      "--------------------------------------------------\n",
      "Duplicates in group: 98\n",
      "--------------------------------------------------\n",
      "Duplicates in landing_page: 98\n",
      "--------------------------------------------------\n",
      "Duplicates in time_spent_on_the_page: 6\n",
      "--------------------------------------------------\n",
      "Duplicates in converted: 98\n",
      "--------------------------------------------------\n",
      "Duplicates in language_preferred: 97\n",
      "--------------------------------------------------\n"
     ]
    }
   ],
   "source": [
    "# Check for duplicates in individual columns\n",
    "for column in df:\n",
    "    print(f'Duplicates in {column}: {df[column].duplicated().sum()}')\n",
    "    print(\"-\" * 50)"
   ]
  },
  {
   "cell_type": "markdown",
   "metadata": {},
   "source": [
    "Observations:\n",
    "\n",
    "* The data shows no complete duplicate rows in the data set which means that each row in the dataset is unique when considering all columns together.\n",
    "* The data does show duplicates in individual columns. This is expected because it's common for values to be repeated in individual columns.\n",
    "* Duplicate values in `time_spent_on_the_page` indicate that 6 different users spent the same amount of time on the page. Since each row represents a unique user, duplicate values here most likely represent a natural occurrence.\n",
    "* Duplicates in other columns like `group`, `landing_page`, `converted`, and `language_preferred` are expected and do not affect the analysis negatively as long as the overall rows are unique which based on User IDs they are."
   ]
  },
  {
   "cell_type": "markdown",
   "metadata": {},
   "source": [
    "<a id=\"univariate-analysis\"></a>\n",
    "\n",
    "---\n",
    "\n",
    "## Univariate Analysis \n",
    "In this section, we will perform univariate analysis on each variable to understand their distributions. This involves:\n",
    "- Plotting histograms or bar charts for categorical variables to visualize their frequency distributions.\n",
    "- Plotting histograms or box plots for numerical variables to understand their central tendency and dispersion."
   ]
  },
  {
   "cell_type": "code",
   "execution_count": 38,
   "metadata": {},
   "outputs": [
    {
     "name": "stdout",
     "output_type": "stream",
     "text": [
      "<class 'pandas.core.frame.DataFrame'>\n",
      "RangeIndex: 100 entries, 0 to 99\n",
      "Data columns (total 6 columns):\n",
      " #   Column                  Non-Null Count  Dtype  \n",
      "---  ------                  --------------  -----  \n",
      " 0   user_id                 100 non-null    int64  \n",
      " 1   group                   100 non-null    object \n",
      " 2   landing_page            100 non-null    object \n",
      " 3   time_spent_on_the_page  100 non-null    float64\n",
      " 4   converted               100 non-null    object \n",
      " 5   language_preferred      100 non-null    object \n",
      "dtypes: float64(1), int64(1), object(4)\n",
      "memory usage: 4.8+ KB\n"
     ]
    }
   ],
   "source": [
    "# Displaying a concise summary of the DataFrame df, including information about the data types and missing values again. \n",
    "df.info()"
   ]
  },
  {
   "cell_type": "code",
   "execution_count": 39,
   "metadata": {},
   "outputs": [
    {
     "name": "stdout",
     "output_type": "stream",
     "text": [
      "Unique values per row:\n"
     ]
    },
    {
     "data": {
      "text/plain": [
       "user_id                   100\n",
       "group                       2\n",
       "landing_page                2\n",
       "time_spent_on_the_page     94\n",
       "converted                   2\n",
       "language_preferred          3\n",
       "dtype: int64"
      ]
     },
     "execution_count": 39,
     "metadata": {},
     "output_type": "execute_result"
    }
   ],
   "source": [
    "# Display the total number of unique values for each row of the data frame.\n",
    "unique_values = df.nunique()\n",
    "print('Unique values per row:')\n",
    "unique_values"
   ]
  },
  {
   "cell_type": "markdown",
   "metadata": {},
   "source": [
    "* Here we see again that there are some columns that have some repeated values individually. \n",
    "* The univariate analysis will first look at all the categorical variables "
   ]
  },
  {
   "cell_type": "markdown",
   "metadata": {},
   "source": [
    "### Categorical Variables"
   ]
  },
  {
   "cell_type": "markdown",
   "metadata": {},
   "source": [
    "#### Group"
   ]
  },
  {
   "cell_type": "code",
   "execution_count": 43,
   "metadata": {},
   "outputs": [
    {
     "data": {
      "text/plain": [
       "count         100\n",
       "unique          2\n",
       "top       control\n",
       "freq           50\n",
       "Name: group, dtype: object"
      ]
     },
     "execution_count": 43,
     "metadata": {},
     "output_type": "execute_result"
    }
   ],
   "source": [
    "# Generate descriptive statistics for Group variable\n",
    "df['group'].describe()"
   ]
  },
  {
   "cell_type": "code",
   "execution_count": 44,
   "metadata": {},
   "outputs": [
    {
     "data": {
      "image/png": "[encoded data removed]",
      "text/plain": [
       "<Figure size 1200x600 with 1 Axes>"
      ]
     },
     "metadata": {},
     "output_type": "display_data"
    }
   ],
   "source": [
    "## Visualize the distribution of Groups using a Bar Graph.\n",
    "\n",
    "plt.figure(figsize = (12, 6))                                   # Plot size\n",
    "sns.countplot(data = df, x = 'group', palette='dark');          # Countplot of the Groups\n",
    "plt.title('Distribution of Group')                              # Title of the Graph\n",
    "plt.xlabel('Group')                                             # Title of the x-axis\n",
    "plt.ylabel('Count')                                             # Title of the y-axis\n",
    "plt.show()"
   ]
  },
  {
   "cell_type": "markdown",
   "metadata": {},
   "source": [
    "* Here we see the two groups as mentioned before being equal in its count. Meaning that there are 50 users in the control group and 50 in the treatment group."
   ]
  },
  {
   "cell_type": "markdown",
   "metadata": {},
   "source": [
    "#### Landing Page"
   ]
  },
  {
   "cell_type": "code",
   "execution_count": 47,
   "metadata": {},
   "outputs": [
    {
     "data": {
      "text/plain": [
       "count     100\n",
       "unique      2\n",
       "top       old\n",
       "freq       50\n",
       "Name: landing_page, dtype: object"
      ]
     },
     "execution_count": 47,
     "metadata": {},
     "output_type": "execute_result"
    }
   ],
   "source": [
    "# Generate descriptive statistics for the Landing Page variable\n",
    "df['landing_page'].describe()"
   ]
  },
  {
   "cell_type": "code",
   "execution_count": 48,
   "metadata": {},
   "outputs": [
    {
     "data": {
      "image/png": "[encoded data removed]",
      "text/plain": [
       "<Figure size 1200x600 with 1 Axes>"
      ]
     },
     "metadata": {},
     "output_type": "display_data"
    }
   ],
   "source": [
    "## Visualize the distribution of Landing Page using a Bar Graph.\n",
    "\n",
    "plt.figure(figsize = (12, 6))                                       # Plot size\n",
    "sns.countplot(data = df, x = 'landing_page', palette='dark');       # Countplot of the Groups\n",
    "plt.title(\"Distribution of Landing Page\")                           # Title of the Graph\n",
    "plt.xlabel('Landing Page')                                          # Title of the x-axis\n",
    "plt.ylabel('Count')                                                 # Title of the y-axis\n",
    "plt.show()"
   ]
  },
  {
   "cell_type": "markdown",
   "metadata": {},
   "source": [
    "*  Here we observe something similar, theres 50 individuals who were placed in the old landing page and 50 individuals in the new landing page. This is as expected based on the problem statement."
   ]
  },
  {
   "cell_type": "markdown",
   "metadata": {},
   "source": [
    "#### Converted"
   ]
  },
  {
   "cell_type": "code",
   "execution_count": 51,
   "metadata": {},
   "outputs": [
    {
     "data": {
      "text/plain": [
       "count     100\n",
       "unique      2\n",
       "top       yes\n",
       "freq       54\n",
       "Name: converted, dtype: object"
      ]
     },
     "execution_count": 51,
     "metadata": {},
     "output_type": "execute_result"
    }
   ],
   "source": [
    "# Generate descriptive statistics for the Converted variable\n",
    "df['converted'].describe()"
   ]
  },
  {
   "cell_type": "code",
   "execution_count": 52,
   "metadata": {},
   "outputs": [
    {
     "data": {
      "image/png": "[encoded data removed]",
      "text/plain": [
       "<Figure size 1200x600 with 1 Axes>"
      ]
     },
     "metadata": {},
     "output_type": "display_data"
    }
   ],
   "source": [
    "## Visualize the distribution of Converted using a Bar Graph.\n",
    "\n",
    "plt.figure(figsize = (12, 6))                                   # Plot size\n",
    "sns.countplot(data = df, x = 'converted', palette='dark');      # Countplot of the Groups\n",
    "plt.title(\"Distribution of Converted\")                          # Title of the Graph\n",
    "plt.xlabel('Converted')                                         # Title of the x-axis\n",
    "plt.ylabel('Count')                                             # Title of the y-axis\n",
    "plt.show()"
   ]
  },
  {
   "cell_type": "markdown",
   "metadata": {},
   "source": [
    "* Here we can see more clearly that majority of the users (54) did convert to a subscriber after the change was implemented. "
   ]
  },
  {
   "cell_type": "markdown",
   "metadata": {},
   "source": [
    "#### Language Preferred"
   ]
  },
  {
   "cell_type": "code",
   "execution_count": 55,
   "metadata": {},
   "outputs": [
    {
     "data": {
      "text/plain": [
       "count         100\n",
       "unique          3\n",
       "top       Spanish\n",
       "freq           34\n",
       "Name: language_preferred, dtype: object"
      ]
     },
     "execution_count": 55,
     "metadata": {},
     "output_type": "execute_result"
    }
   ],
   "source": [
    "# Generate descriptive statistics for the language Preferred\n",
    "df['language_preferred'].describe()"
   ]
  },
  {
   "cell_type": "code",
   "execution_count": 56,
   "metadata": {},
   "outputs": [
    {
     "data": {
      "image/png": "[encoded data removed]",
      "text/plain": [
       "<Figure size 1200x600 with 1 Axes>"
      ]
     },
     "metadata": {},
     "output_type": "display_data"
    }
   ],
   "source": [
    "## Visualize the distribution of Language preferred using a Bar Graph.\n",
    "\n",
    "plt.figure(figsize = (12, 6))                                           # Plot size\n",
    "sns.countplot(data = df, x = 'language_preferred', palette='dark');     # Countplot of the Groups\n",
    "plt.title(\"Distribution of Language Preferred\")                         # Title of the Graph\n",
    "plt.xlabel('Landing Page Language')                                     # Title of the x-axis\n",
    "plt.ylabel('Count')                                                     # Title of the y-axis\n",
    "plt.show()"
   ]
  },
  {
   "cell_type": "markdown",
   "metadata": {},
   "source": [
    "* Here we can see that majority of users prefer the landing page either in Spanish or French both with 34 number of users respectively while english is at 32 users.\n",
    "* This could indicate that majority of users' first language is Spanish or French than English or at least that they prefer those languages. "
   ]
  },
  {
   "cell_type": "markdown",
   "metadata": {},
   "source": [
    "### Numerical Values"
   ]
  },
  {
   "cell_type": "markdown",
   "metadata": {},
   "source": [
    "#### Time Spent on the page"
   ]
  },
  {
   "cell_type": "code",
   "execution_count": 60,
   "metadata": {},
   "outputs": [
    {
     "data": {
      "text/plain": [
       "count   100.00\n",
       "mean      5.38\n",
       "std       2.38\n",
       "min       0.19\n",
       "25%       3.88\n",
       "50%       5.42\n",
       "75%       7.02\n",
       "max      10.71\n",
       "Name: time_spent_on_the_page, dtype: float64"
      ]
     },
     "execution_count": 60,
     "metadata": {},
     "output_type": "execute_result"
    }
   ],
   "source": [
    "# Generate descriptive statistics for the Converted variable\n",
    "df['time_spent_on_the_page'].describe()"
   ]
  },
  {
   "cell_type": "code",
   "execution_count": 61,
   "metadata": {},
   "outputs": [
    {
     "data": {
      "image/png": "[encoded data removed]",
      "text/plain": [
       "<Figure size 1200x600 with 1 Axes>"
      ]
     },
     "metadata": {},
     "output_type": "display_data"
    }
   ],
   "source": [
    "## Visualize the distribution of Time Spent on the Page using a Histogram.\n",
    "\n",
    "plt.figure(figsize = (12, 6))                                          # Plot size\n",
    "sns.histplot(data = df, x = 'time_spent_on_the_page', kde=True);       # Histogram of the Time Spent on the Page\n",
    "plt.title(\"Distribution Time Spent on the Page\")                       # Title of the Graph\n",
    "plt.xlabel('Time Spent on the Page')                                   # Title of the x-axis\n",
    "plt.ylabel('Frequency')                                                # Title of the y-axis\n",
    "plt.show()"
   ]
  },
  {
   "cell_type": "code",
   "execution_count": 62,
   "metadata": {},
   "outputs": [
    {
     "data": {
      "image/png": "[encoded data removed]",
      "text/plain": [
       "<Figure size 1200x600 with 1 Axes>"
      ]
     },
     "metadata": {},
     "output_type": "display_data"
    }
   ],
   "source": [
    "## Visualize the distribution of Time Spent on the Page using a box plot.\n",
    "\n",
    "plt.figure(figsize = (12, 6))                           # Plot size\n",
    "sns.boxplot(data=df, x='time_spent_on_the_page');       # Boxplot of cuisine types\n",
    "plt.title(\"Distribution of Time spent on the Page\")     # Title of the Graph\n",
    "plt.xlabel('Time Spent on the Page in Minutes')         # Title of the x-axis\n",
    "plt.show()"
   ]
  },
  {
   "cell_type": "code",
   "execution_count": 63,
   "metadata": {},
   "outputs": [
    {
     "name": "stdout",
     "output_type": "stream",
     "text": [
      "Since skewness of Time Spent on the Page is: -0.1494803722510636. \n",
      " The distribution of Time Spent on the Page is left skewed.\n"
     ]
    }
   ],
   "source": [
    "# Checking for symmetry of the distribution of Time Spent on the Page\n",
    "skewness = df['time_spent_on_the_page'].skew()\n",
    "\n",
    "# Interpretation\n",
    "if skewness < 0:\n",
    "    print(f'Since skewness of Time Spent on the Page is: {skewness}. \\n The distribution of Time Spent on the Page is left skewed.')\n",
    "elif skewness > 0:\n",
    "    print(f'Since skewness of Time Spent on the Page is: {skewness}. \\n The distribution of Time Spent on the Page is right skewed.')\n",
    "elif skewness == 0:\n",
    "    print(f'Since skewness of Time Spent on the Page is: {skewness}. \\n The distribution of Time Spent on the Page is symmetric.')\n"
   ]
  },
  {
   "cell_type": "markdown",
   "metadata": {},
   "source": [
    "* The histogram and box plot illustrate the distribution and skewness of the Time spent on the Page.\n",
    "* The data is minimally left-skewed, with a majority of users spending less than 7.022 mins.\n",
    "* The average time is 5.378 mins, with a standard deviation of 2.378 mins.\n",
    "* The minimum and maximum times being 2.378 mins and 10.710 respectively."
   ]
  },
  {
   "cell_type": "markdown",
   "metadata": {},
   "source": [
    "---\n",
    "\n",
    "## Bivariate Analysis <a id=\"bivariate-analysis\"></a>\n",
    "In this section, we will perform bivariate analysis to explore relationships between variables. This involves:\n",
    "- Since the goal is to analyze how the time spent on the landing page varies across different categorical variables and identify patterns or differences between the control and treatment groups, we will be using Box Plots.\n",
    "- In our case `time spent on the page` is an outcome we want to understand. It can be influenced by other factors such as the `group` (control or treatment), the `landing page` (new or old), whether the user `converted`, and the `preferred language`. Therefore, it will be our dependent variable and Y-axis on our graphs."
   ]
  },
  {
   "cell_type": "code",
   "execution_count": 66,
   "metadata": {},
   "outputs": [
    {
     "name": "stdout",
     "output_type": "stream",
     "text": [
      "<class 'pandas.core.frame.DataFrame'>\n",
      "RangeIndex: 100 entries, 0 to 99\n",
      "Data columns (total 6 columns):\n",
      " #   Column                  Non-Null Count  Dtype  \n",
      "---  ------                  --------------  -----  \n",
      " 0   user_id                 100 non-null    int64  \n",
      " 1   group                   100 non-null    object \n",
      " 2   landing_page            100 non-null    object \n",
      " 3   time_spent_on_the_page  100 non-null    float64\n",
      " 4   converted               100 non-null    object \n",
      " 5   language_preferred      100 non-null    object \n",
      "dtypes: float64(1), int64(1), object(4)\n",
      "memory usage: 4.8+ KB\n"
     ]
    }
   ],
   "source": [
    "# Displaying a concise summary of the DataFrame df, including information about the data types and missing values again. \n",
    "df.info()"
   ]
  },
  {
   "cell_type": "markdown",
   "metadata": {},
   "source": [
    "#### Distribution of Group vs Time Spent on the Page "
   ]
  },
  {
   "cell_type": "code",
   "execution_count": 68,
   "metadata": {},
   "outputs": [
    {
     "data": {
      "image/png": "[encoded data removed]",
      "text/plain": [
       "<Figure size 1200x600 with 1 Axes>"
      ]
     },
     "metadata": {},
     "output_type": "display_data"
    }
   ],
   "source": [
    "# Box plot for time spent on the page by group\n",
    "plt.figure(figsize=(12, 6))\n",
    "sns.boxplot(data=df, x='group', y='time_spent_on_the_page', palette='deep')\n",
    "plt.title('Time Spent on the Page by Group')\n",
    "plt.xlabel('Group')\n",
    "plt.ylabel('Time Spent on the Page (minutes)')\n",
    "plt.show()"
   ]
  },
  {
   "cell_type": "code",
   "execution_count": 69,
   "metadata": {},
   "outputs": [
    {
     "name": "stdout",
     "output_type": "stream",
     "text": [
      "Median time spent: \n",
      " Control group = 4.38 minutes. \n",
      " Treatment group = 6.105 minutes.\n"
     ]
    }
   ],
   "source": [
    "# Median time spent by group\n",
    "group_median = df.groupby('group')['time_spent_on_the_page'].median()\n",
    "print(f\"Median time spent: \\n Control group = {group_median['control']} minutes. \\n Treatment group = {group_median['treatment']} minutes.\")"
   ]
  },
  {
   "cell_type": "markdown",
   "metadata": {},
   "source": [
    "Observations:\n",
    "\n",
    "* By looking at the box plots and the median time spent by group between the control group and the treatment group, we can see that users in the treatment group spend more time on the page compared to the control group.\n",
    "* This could be an indicator that the treatment group (new landing page) is effective at retaining users for more time."
   ]
  },
  {
   "cell_type": "markdown",
   "metadata": {},
   "source": [
    "#### Distribution of Landing Page vs Time Spent on the Page "
   ]
  },
  {
   "cell_type": "code",
   "execution_count": 72,
   "metadata": {},
   "outputs": [
    {
     "data": {
      "image/png": "[encoded data removed]",
      "text/plain": [
       "<Figure size 1200x600 with 1 Axes>"
      ]
     },
     "metadata": {},
     "output_type": "display_data"
    }
   ],
   "source": [
    "# Box plot for time spent on the page by landing page\n",
    "plt.figure(figsize=(12, 6))\n",
    "sns.boxplot(data=df, x='landing_page', y='time_spent_on_the_page', palette='deep')\n",
    "plt.title('Time Spent on the Page by Landing Page')\n",
    "plt.xlabel('Landing Page')\n",
    "plt.ylabel('Time Spent on the Page (minutes)')\n",
    "plt.show()"
   ]
  },
  {
   "cell_type": "code",
   "execution_count": 73,
   "metadata": {},
   "outputs": [
    {
     "name": "stdout",
     "output_type": "stream",
     "text": [
      "Median time spent: \n",
      " Old page = 4.38 minutes. \n",
      " New page = 6.105 minutes.\n"
     ]
    }
   ],
   "source": [
    "# Median time spent by landing page\n",
    "landing_page_median = df.groupby('landing_page')['time_spent_on_the_page'].median()\n",
    "print(f\"Median time spent: \\n Old page = {landing_page_median['old']} minutes. \\n New page = {landing_page_median['new']} minutes.\")"
   ]
  },
  {
   "cell_type": "markdown",
   "metadata": {},
   "source": [
    "Observations\n",
    "\n",
    "* By looking at the box plot and the median time spent by landing page between the old and new landing pages, we can see that users spend more time in the new page than in the old. \n",
    "* The new landing page sees higher engagement in terms of time spent compared to the old landing page."
   ]
  },
  {
   "cell_type": "markdown",
   "metadata": {},
   "source": [
    "#### Distribution of Converted vs Time Spent on the Page "
   ]
  },
  {
   "cell_type": "code",
   "execution_count": 76,
   "metadata": {},
   "outputs": [
    {
     "data": {
      "image/png": "[encoded data removed]",
      "text/plain": [
       "<Figure size 1200x600 with 1 Axes>"
      ]
     },
     "metadata": {},
     "output_type": "display_data"
    }
   ],
   "source": [
    "# Box plot for time spent on the page by conversion status\n",
    "plt.figure(figsize=(12, 6))\n",
    "sns.boxplot(data=df, x='converted', y='time_spent_on_the_page', palette='deep')\n",
    "plt.title('Time Spent on the Page by Conversion Status')\n",
    "plt.xlabel('Converted')\n",
    "plt.ylabel('Time Spent on the Page (minutes)')\n",
    "plt.show()"
   ]
  },
  {
   "cell_type": "code",
   "execution_count": 77,
   "metadata": {},
   "outputs": [
    {
     "name": "stdout",
     "output_type": "stream",
     "text": [
      "Median time spent: \n",
      " Not converted = 3.98 minutes. \n",
      " Converted = 6.494999999999999 minutes.\n"
     ]
    }
   ],
   "source": [
    "# Median time spent by conversion status\n",
    "converted_median = df.groupby('converted')['time_spent_on_the_page'].median()\n",
    "print(f\"Median time spent: \\n Not converted = {converted_median['no']} minutes. \\n Converted = {converted_median['yes']} minutes.\")\n"
   ]
  },
  {
   "cell_type": "markdown",
   "metadata": {},
   "source": [
    "Observations\n",
    "\n",
    "* By looking at the box plot and the median time spent by conversion status between converted and non converted, we can see that users who converted spent significantly more time on the page than those who did not"
   ]
  },
  {
   "cell_type": "markdown",
   "metadata": {},
   "source": [
    "#### Distribution of Language Preferred vs Time Spent on the Page "
   ]
  },
  {
   "cell_type": "code",
   "execution_count": 80,
   "metadata": {},
   "outputs": [
    {
     "data": {
      "image/png": "[encoded data removed]",
      "text/plain": [
       "<Figure size 1200x600 with 1 Axes>"
      ]
     },
     "metadata": {},
     "output_type": "display_data"
    }
   ],
   "source": [
    "# Box plot for time spent on the page by preferred language\n",
    "plt.figure(figsize=(12, 6))\n",
    "sns.boxplot(data=df, x='language_preferred', y='time_spent_on_the_page', palette='deep')\n",
    "plt.title('Time Spent on the Page by Preferred Language')\n",
    "plt.xlabel('Preferred Language')\n",
    "plt.ylabel('Time Spent on the Page (minutes)')\n",
    "plt.show()"
   ]
  },
  {
   "cell_type": "code",
   "execution_count": 81,
   "metadata": {},
   "outputs": [
    {
     "name": "stdout",
     "output_type": "stream",
     "text": [
      "Median time spent by preferred language:\n",
      "English = 5.755000000000001 minutes.\n",
      "French = 5.3149999999999995 minutes.\n",
      "Spanish = 5.605 minutes.\n"
     ]
    }
   ],
   "source": [
    "# Median time spent by preferred language\n",
    "language_median = df.groupby('language_preferred')['time_spent_on_the_page'].median()\n",
    "print(\"Median time spent by preferred language:\")\n",
    "for lang, time in language_median.items():\n",
    "    print(f\"{lang} = {time} minutes.\")"
   ]
  },
  {
   "cell_type": "markdown",
   "metadata": {},
   "source": [
    "Observations:\n",
    "* By looking at the box plot and the median time spent by preferred language, we can see that users preferring English spend the most time on the page, followed by users preferring Spanish and French respectively."
   ]
  },
  {
   "cell_type": "markdown",
   "metadata": {},
   "source": [
    "---\n",
    "\n",
    "## Hypothesis Testing <a id=\"hypothesis-testing\"></a>\n"
   ]
  },
  {
   "cell_type": "markdown",
   "metadata": {},
   "source": [
    "### 1. Do the users spend more time on the new landing page than the existing landing page? <a id=\"1-do-the-users-spend-more-time-on-the-new-landing-page-than-the-existing-landing-page\"></a>\n"
   ]
  },
  {
   "cell_type": "markdown",
   "metadata": {},
   "source": [
    "#### Perform Visual Analysis"
   ]
  },
  {
   "cell_type": "markdown",
   "metadata": {},
   "source": [
    "- As we saw above, the best way to represent the time spent on the new and old landing pages would be a boxplot. \n",
    "- Recalling the boxplot:"
   ]
  },
  {
   "cell_type": "code",
   "execution_count": 87,
   "metadata": {},
   "outputs": [
    {
     "data": {
      "image/png": "[encoded data removed]",
      "text/plain": [
       "<Figure size 1000x600 with 1 Axes>"
      ]
     },
     "metadata": {},
     "output_type": "display_data"
    }
   ],
   "source": [
    "# Boxplot for time spent on the new and old landing pages\n",
    "plt.figure(figsize=(10, 6))\n",
    "sns.boxplot(data=df, x='landing_page', y='time_spent_on_the_page', palette='bright')\n",
    "plt.title('Time Spent on the Landing Pages')\n",
    "plt.xlabel('Landing Page')\n",
    "plt.ylabel('Time Spent on the Page (minutes)')\n",
    "plt.show()"
   ]
  },
  {
   "cell_type": "markdown",
   "metadata": {},
   "source": [
    "#### Step 1: Define the Null and Alternate Hypothesis <a id=\"step-1-define-the-null-and-alternate-hypothesis\"></a>\n",
    "\n",
    "Taking into consideration that we are trying to determine wether users spend more or less time depending on the landing page lets declare $\\mu$ as time on the landing page.\n",
    "\n",
    "**Null Hypothesis $H_0$:** There is no difference in the time spent by users on the new landing page and the existing landing page.\n",
    "\n",
    "**Alternate Hypothesis $H_a$:** Users spend more time on the new landing page than the existing landing page.\n",
    "\n",
    ">$H_0$: $\\mu_{\\text{new}} = \\mu_{\\text{old}}$\n",
    "\n",
    ">$H_a$: $\\mu_{\\text{new}} > \\mu_{\\text{old}}$\n",
    "\n"
   ]
  },
  {
   "cell_type": "markdown",
   "metadata": {},
   "source": [
    "#### Step 2: Select Appropriate Test <a id=\"step-2-select-appropriate-test\"></a>\n",
    "- This is a one-tailed directional hypothesis problem with two samples. \n",
    "- Therefore we will use a two-sample T-test to compare the means between the old and new landing pages."
   ]
  },
  {
   "cell_type": "markdown",
   "metadata": {},
   "source": [
    "#### Step 3: Decide the Significance Level <a id=\"step-3-decide-the-significance-level\"></a>\n",
    "- According to the problem statement, the significance level ($\\alpha$) is set at 0.05 for the hypothesis test.\n",
    "> $\\alpha$ = 0.05"
   ]
  },
  {
   "cell_type": "markdown",
   "metadata": {},
   "source": [
    "#### Step 4: Collect and Prepare Data <a id=\"step-4-collect-and-prepare-data\"></a>\n",
    "- We will extract the relevant data for the time spent on the landing pages for both the control and treatment groups."
   ]
  },
  {
   "cell_type": "markdown",
   "metadata": {},
   "source": [
    "First lets analyze the data once again."
   ]
  },
  {
   "cell_type": "code",
   "execution_count": 93,
   "metadata": {},
   "outputs": [
    {
     "data": {
      "text/html": [
       "<div>\n",
       "<style scoped>\n",
       "    .dataframe tbody tr th:only-of-type {\n",
       "        vertical-align: middle;\n",
       "    }\n",
       "\n",
       "    .dataframe tbody tr th {\n",
       "        vertical-align: top;\n",
       "    }\n",
       "\n",
       "    .dataframe thead th {\n",
       "        text-align: right;\n",
       "    }\n",
       "</style>\n",
       "<table border=\"1\" class=\"dataframe\">\n",
       "  <thead>\n",
       "    <tr style=\"text-align: right;\">\n",
       "      <th></th>\n",
       "      <th>user_id</th>\n",
       "      <th>group</th>\n",
       "      <th>landing_page</th>\n",
       "      <th>time_spent_on_the_page</th>\n",
       "      <th>converted</th>\n",
       "      <th>language_preferred</th>\n",
       "    </tr>\n",
       "  </thead>\n",
       "  <tbody>\n",
       "    <tr>\n",
       "      <th>0</th>\n",
       "      <td>546592</td>\n",
       "      <td>control</td>\n",
       "      <td>old</td>\n",
       "      <td>3.48</td>\n",
       "      <td>no</td>\n",
       "      <td>Spanish</td>\n",
       "    </tr>\n",
       "    <tr>\n",
       "      <th>1</th>\n",
       "      <td>546468</td>\n",
       "      <td>treatment</td>\n",
       "      <td>new</td>\n",
       "      <td>7.13</td>\n",
       "      <td>yes</td>\n",
       "      <td>English</td>\n",
       "    </tr>\n",
       "    <tr>\n",
       "      <th>2</th>\n",
       "      <td>546462</td>\n",
       "      <td>treatment</td>\n",
       "      <td>new</td>\n",
       "      <td>4.40</td>\n",
       "      <td>no</td>\n",
       "      <td>Spanish</td>\n",
       "    </tr>\n",
       "    <tr>\n",
       "      <th>3</th>\n",
       "      <td>546567</td>\n",
       "      <td>control</td>\n",
       "      <td>old</td>\n",
       "      <td>3.02</td>\n",
       "      <td>no</td>\n",
       "      <td>French</td>\n",
       "    </tr>\n",
       "    <tr>\n",
       "      <th>4</th>\n",
       "      <td>546459</td>\n",
       "      <td>treatment</td>\n",
       "      <td>new</td>\n",
       "      <td>4.75</td>\n",
       "      <td>yes</td>\n",
       "      <td>Spanish</td>\n",
       "    </tr>\n",
       "  </tbody>\n",
       "</table>\n",
       "</div>"
      ],
      "text/plain": [
       "   user_id      group landing_page  time_spent_on_the_page converted  \\\n",
       "0   546592    control          old                    3.48        no   \n",
       "1   546468  treatment          new                    7.13       yes   \n",
       "2   546462  treatment          new                    4.40        no   \n",
       "3   546567    control          old                    3.02        no   \n",
       "4   546459  treatment          new                    4.75       yes   \n",
       "\n",
       "  language_preferred  \n",
       "0            Spanish  \n",
       "1            English  \n",
       "2            Spanish  \n",
       "3             French  \n",
       "4            Spanish  "
      ]
     },
     "execution_count": 93,
     "metadata": {},
     "output_type": "execute_result"
    }
   ],
   "source": [
    "# Display the first 5 rows of the dataset.\n",
    "df.head()"
   ]
  },
  {
   "cell_type": "markdown",
   "metadata": {},
   "source": [
    "Since we need to compare the two landing pages for the old and new Landing pages we have to group the Time Spent on the Page by Landing pages."
   ]
  },
  {
   "cell_type": "code",
   "execution_count": 95,
   "metadata": {},
   "outputs": [
    {
     "name": "stdout",
     "output_type": "stream",
     "text": [
      "The Mean Time Spent on the New Landing Page is 6.2232\n",
      "The Standard Deviation of the Time Spent on the New Landing Page is 1.8170310387878263 \n",
      "\n",
      "The Mean Time Spent on the Old Landing Page is 4.532400000000001\n",
      "The Standard Deviation of Time Spent on the Old Landing Page is 2.581974849306046\n"
     ]
    }
   ],
   "source": [
    "# create subset data frame for new landing page users\n",
    "time_spent_new = df[df['landing_page'] == 'new']['time_spent_on_the_page']\n",
    "\n",
    "# create subset data frame for old landing page users\n",
    "time_spent_old = df[df['landing_page'] == 'old']['time_spent_on_the_page'] \n",
    "\n",
    "# find the sample means and sample standard deviations for the two samples\n",
    "print('The Mean Time Spent on the New Landing Page is ' + str(time_spent_new.mean()))\n",
    "print('The Standard Deviation of the Time Spent on the New Landing Page is ' + str(time_spent_new.std()), '\\n')\n",
    "\n",
    "print('The Mean Time Spent on the Old Landing Page is ' + str(time_spent_old.mean()))\n",
    "print('The Standard Deviation of Time Spent on the Old Landing Page is ' + str(time_spent_old.std()))"
   ]
  },
  {
   "cell_type": "code",
   "execution_count": 96,
   "metadata": {},
   "outputs": [
    {
     "data": {
      "image/png": "[encoded data removed]",
      "text/plain": [
       "<Figure size 1200x600 with 2 Axes>"
      ]
     },
     "metadata": {},
     "output_type": "display_data"
    }
   ],
   "source": [
    "# Histograms\n",
    "plt.figure(figsize=(12, 6))\n",
    "plt.subplot(1, 2, 1)\n",
    "sns.histplot(time_spent_new, kde=True)\n",
    "plt.title('Histogram of Time Spent (New Landing Page)')\n",
    "plt.xlabel('Time spent on the page in minutes')\n",
    "plt.subplot(1, 2, 2)\n",
    "sns.histplot(time_spent_old, kde=True)\n",
    "plt.title('Histogram of Time Spent (Old Landing Page)')\n",
    "plt.xlabel('Time spent on the page in minutes')\n",
    "plt.show()"
   ]
  },
  {
   "cell_type": "markdown",
   "metadata": {},
   "source": [
    "#### Let's test whether the T-test assumptions are satisfied and if the test would be valid\n",
    "\n",
    "* **Continuous data**- Confirmed . `time_spent_on_the_page` is measured on a continuous scale.\n",
    "* **Normally distributed populations** - Confirmed. Based on the Histograms of time spent in the new and old landing page, we can see that this is normally distributed.\n",
    "* **Independent populations** - Confirmed. The two Landing pages (new and old) are independent from one another.\n",
    "* **Equal population standard deviations** - Denied. However, when this specific assumption is not met we then use the Welch's T-Test. This means we will use `equal_var=False` in the `ttest_ind`. \n",
    "* **Random sampling**- Confirmed. We are informed that the Data Science team randomly selected 100 users and divided them equally into two groups.\n",
    "\n",
    "Therefore, we can use two sample Welch's T-test for this problem."
   ]
  },
  {
   "cell_type": "markdown",
   "metadata": {},
   "source": [
    "#### Step 5: Calculate the p-value <a id=\"step-5-calculate-the-p-value\"></a>\n",
    "- We will perform the t-test and calculate the p-value to determine the statistical significance of the observed difference."
   ]
  },
  {
   "cell_type": "code",
   "execution_count": 99,
   "metadata": {},
   "outputs": [
    {
     "name": "stdout",
     "output_type": "stream",
     "text": [
      "The p-value is 0.0001392381225166549\n",
      "The test statistic is 3.7867702694199856\n"
     ]
    }
   ],
   "source": [
    "from scipy.stats import ttest_ind\n",
    "\n",
    "test_stat, p_value = ttest_ind(time_spent_new, time_spent_old, equal_var=False, alternative='greater')\n",
    "\n",
    "# Print the results\n",
    "print('The p-value is ' + str(p_value))\n",
    "print('The test statistic is ' + str(test_stat))"
   ]
  },
  {
   "cell_type": "markdown",
   "metadata": {},
   "source": [
    "#### Step 6: Compare the p-value with $\\alpha$ <a id=\"step-6-compare-the-p-value-with-alpha\"></a>\n",
    "- We will compare the p-value with the significance level to decide whether to reject the null hypothesis.\n"
   ]
  },
  {
   "cell_type": "code",
   "execution_count": 101,
   "metadata": {},
   "outputs": [
    {
     "name": "stdout",
     "output_type": "stream",
     "text": [
      "As the p-value 0.0001392381225166549 is less than the level of significance 0.05, we reject the null hypothesis.\n"
     ]
    }
   ],
   "source": [
    "# print the conclusion based on p-value\n",
    "alpha = 0.05 \n",
    "\n",
    "if p_value < 0.05:\n",
    "    print(f'As the p-value {p_value} is less than the level of significance {alpha}, we reject the null hypothesis.')\n",
    "else:\n",
    "    print(f'As the p-value {p_value} is greater than the level of significance {alpha}, we fail to reject the null hypothesis.')"
   ]
  },
  {
   "cell_type": "markdown",
   "metadata": {},
   "source": [
    "#### Step 7: Draw Inference <a id=\"step-7-draw-inference\"></a>\n",
    "- Based on the p-value, we will draw an inference about the effectiveness of the new landing page in terms of time spent by users.\n",
    "- **Since the P-value is less than the level of significance, we have enough statistical evidence to infer that users spend more time on the new landing page than the existing landing page.**\n",
    "- This inference is supported by looking at the observations of the Bivariate Analysis Distribution of Landing Page vs Time Spent on the Page section."
   ]
  },
  {
   "cell_type": "markdown",
   "metadata": {},
   "source": [
    "---\n",
    "\n",
    "### 2. Is the conversion rate (the proportion of users who visit the landing page and get converted) for the new page greater than the conversion rate for the old page? <a id=\"2-is-the-conversion-rate-the-proportion-of-users-who-visit-the-landing-page-and-get-converted-for-the-new-page-greater-than-the-conversion-rate-for-the-old-page\"></a>"
   ]
  },
  {
   "cell_type": "markdown",
   "metadata": {},
   "source": [
    "#### Step 1: Define the null and alternate hypotheses\n",
    "\n",
    "Taking into consideration that we are trying to determine wether the conversion rate is greater depending on the landing page, lets declare $p$ as the conversion rate.\n",
    "\n",
    "**Null Hypothesis $H_0$:** The conversion rate of the new landing page is less than or equal to the conversion rate of the old landing page.\n",
    "\n",
    "**Alternate Hypothesis $H_a$:** The conversion rate of the new landing page is greater than the conversion rate of the old landing page.\n",
    "\n",
    ">$H_0: p_{\\text{new}} \\leq p_{\\text{old}}$\n",
    "\n",
    ">$H_a: p_{\\text{new}} > p_{\\text{old}}$"
   ]
  },
  {
   "cell_type": "markdown",
   "metadata": {},
   "source": [
    "#### Step 2: Select Appropriate test\n",
    "\n",
    "- This is a one tailed categorical problem with two samples. \n",
    "- Since we are comparing the sample conversion rates (proportions) from two populations, it is appropriate to use a 2-Sample Proportion Z-Test."
   ]
  },
  {
   "cell_type": "markdown",
   "metadata": {},
   "source": [
    "### Let's test whether the Z-test assumptions are satisfied or not\n",
    "\n",
    "* **Binomially distributed populations** - Confirmed. A user can either be converted or not.\n",
    "* **Random sampling from the population** - Confirmed. We are informed that the Data Science team randomly selected 100 users and divided them equally into two groups.  \n",
    "* **Can the binomial distribution approximated to normal distribution** - For binary data, CLT works slower than usual. The standard thing is to check whether $np$ and $n(1-p)$ are greater than or equal to 10. Here, $n$ and $p$ refer to the sample size and sample proportion respectively.\n",
    "\n",
    ">$np_1 \\geq 10$\n",
    "\n",
    ">$n(1-p_1) \\geq 10$\n",
    "\n",
    ">$np_2 \\geq 10\\$\n",
    "\n",
    ">$n(1-p_2) \\geq 10 $"
   ]
  },
  {
   "cell_type": "code",
   "execution_count": 107,
   "metadata": {},
   "outputs": [
    {
     "name": "stdout",
     "output_type": "stream",
     "text": [
      "Number of conversions for the new landing page: 33\n",
      "Number of conversions for the old landing page: 21\n",
      "\n",
      "Conversion rate for the new landing page: 66.00%\n",
      "Conversion rate for the old landing page: 42.00%\n",
      "\n",
      "New landing page: np = 33.0, n(1-p) = 17.0\n",
      "Old landing page: np = 21.0, n(1-p) = 29.000000000000004\n",
      "\n",
      "The conditions for the new landing page are met.\n",
      "The conditions for the old landing page are met.\n"
     ]
    }
   ],
   "source": [
    "# Declare the size of the sample.\n",
    "n = 50\n",
    "\n",
    "# Count conversions for the new landing page\n",
    "p1 = new_page_conversions = (df[df['landing_page'] == 'new']['converted'] == 'yes').sum()\n",
    "\n",
    "# Count conversions for the old landing page\n",
    "p2 = old_page_conversions = (df[df['landing_page'] == 'old']['converted'] == 'yes').sum()\n",
    "\n",
    "print(f\"Number of conversions for the new landing page: {new_page_conversions}\")\n",
    "print(f\"Number of conversions for the old landing page: {old_page_conversions}\")\n",
    "\n",
    "# Proportions of conversions\n",
    "new_conversion_rate = (p1/n)\n",
    "old_conversion_rate = (p2/n)\n",
    "\n",
    "print(f\"\\nConversion rate for the new landing page: {new_conversion_rate:.2%}\")\n",
    "print(f\"Conversion rate for the old landing page: {old_conversion_rate:.2%}\")\n",
    "\n",
    "# Check np and n(1-p) for new landing page\n",
    "new_page_np = n * (new_page_conversions/n)\n",
    "new_page_n1_p = n * (1 - (new_page_conversions/n))\n",
    "\n",
    "# Check np and n(1-p) for old landing page\n",
    "old_page_np = n * (old_page_conversions/n)\n",
    "old_page_n1_p = n * (1 - (old_page_conversions/n))\n",
    "\n",
    "print(f\"\\nNew landing page: np = {new_page_np}, n(1-p) = {new_page_n1_p}\")\n",
    "print(f\"Old landing page: np = {old_page_np}, n(1-p) = {old_page_n1_p}\")\n",
    "\n",
    "# Check if the conditions are met\n",
    "if new_page_np >= 10 and new_page_n1_p >= 10:\n",
    "    print(\"\\nThe conditions for the new landing page are met.\")\n",
    "else:\n",
    "    print(\"\\nThe conditions for the new landing page are not met.\")\n",
    "\n",
    "if old_page_np >= 10 and old_page_n1_p >= 10:\n",
    "    print(\"The conditions for the old landing page are met.\")\n",
    "else:\n",
    "    print(\"The conditions for the old landing page are not met.\")"
   ]
  },
  {
   "cell_type": "markdown",
   "metadata": {},
   "source": [
    "As shown above, the conditions for the Two Proportion Z-Test are met\n",
    ">$np_1 = 50\\cdot \\frac{33}{50} = 33.0 \\geq 10$\n",
    ">\n",
    ">$n(1-p_1) = 50 \\cdot (1- \\frac{33}{50}) = 17 \\geq 10 $\n",
    ">\n",
    ">$np_2 = 50\\cdot \\frac{21}{50} = 21 \\geq 10 $\n",
    ">\n",
    ">$n(1-p_2) = 50 \\cdot (1- \\frac{21}{50}) = 29.0 \\geq 10 $"
   ]
  },
  {
   "cell_type": "markdown",
   "metadata": {},
   "source": [
    "Therefore, we can use two proportion Z-Test for this problem."
   ]
  },
  {
   "cell_type": "markdown",
   "metadata": {},
   "source": [
    "#### Step 3: Decide the Significance Level\n",
    "- According to the problem statement, the significance level ($\\alpha$) is set at 0.05 for the hypothesis test.\n",
    "> $\\alpha$ = 0.05"
   ]
  },
  {
   "cell_type": "markdown",
   "metadata": {},
   "source": [
    "#### Step 4: Collect and prepare data"
   ]
  },
  {
   "cell_type": "code",
   "execution_count": 112,
   "metadata": {},
   "outputs": [
    {
     "data": {
      "text/html": [
       "<div>\n",
       "<style scoped>\n",
       "    .dataframe tbody tr th:only-of-type {\n",
       "        vertical-align: middle;\n",
       "    }\n",
       "\n",
       "    .dataframe tbody tr th {\n",
       "        vertical-align: top;\n",
       "    }\n",
       "\n",
       "    .dataframe thead th {\n",
       "        text-align: right;\n",
       "    }\n",
       "</style>\n",
       "<table border=\"1\" class=\"dataframe\">\n",
       "  <thead>\n",
       "    <tr style=\"text-align: right;\">\n",
       "      <th></th>\n",
       "      <th>user_id</th>\n",
       "      <th>group</th>\n",
       "      <th>landing_page</th>\n",
       "      <th>time_spent_on_the_page</th>\n",
       "      <th>converted</th>\n",
       "      <th>language_preferred</th>\n",
       "    </tr>\n",
       "  </thead>\n",
       "  <tbody>\n",
       "    <tr>\n",
       "      <th>0</th>\n",
       "      <td>546592</td>\n",
       "      <td>control</td>\n",
       "      <td>old</td>\n",
       "      <td>3.48</td>\n",
       "      <td>no</td>\n",
       "      <td>Spanish</td>\n",
       "    </tr>\n",
       "    <tr>\n",
       "      <th>1</th>\n",
       "      <td>546468</td>\n",
       "      <td>treatment</td>\n",
       "      <td>new</td>\n",
       "      <td>7.13</td>\n",
       "      <td>yes</td>\n",
       "      <td>English</td>\n",
       "    </tr>\n",
       "    <tr>\n",
       "      <th>2</th>\n",
       "      <td>546462</td>\n",
       "      <td>treatment</td>\n",
       "      <td>new</td>\n",
       "      <td>4.40</td>\n",
       "      <td>no</td>\n",
       "      <td>Spanish</td>\n",
       "    </tr>\n",
       "    <tr>\n",
       "      <th>3</th>\n",
       "      <td>546567</td>\n",
       "      <td>control</td>\n",
       "      <td>old</td>\n",
       "      <td>3.02</td>\n",
       "      <td>no</td>\n",
       "      <td>French</td>\n",
       "    </tr>\n",
       "    <tr>\n",
       "      <th>4</th>\n",
       "      <td>546459</td>\n",
       "      <td>treatment</td>\n",
       "      <td>new</td>\n",
       "      <td>4.75</td>\n",
       "      <td>yes</td>\n",
       "      <td>Spanish</td>\n",
       "    </tr>\n",
       "  </tbody>\n",
       "</table>\n",
       "</div>"
      ],
      "text/plain": [
       "   user_id      group landing_page  time_spent_on_the_page converted  \\\n",
       "0   546592    control          old                    3.48        no   \n",
       "1   546468  treatment          new                    7.13       yes   \n",
       "2   546462  treatment          new                    4.40        no   \n",
       "3   546567    control          old                    3.02        no   \n",
       "4   546459  treatment          new                    4.75       yes   \n",
       "\n",
       "  language_preferred  \n",
       "0            Spanish  \n",
       "1            English  \n",
       "2            Spanish  \n",
       "3             French  \n",
       "4            Spanish  "
      ]
     },
     "execution_count": 112,
     "metadata": {},
     "output_type": "execute_result"
    }
   ],
   "source": [
    "# Display the first few rows of the dataset\n",
    "df.head()"
   ]
  },
  {
   "cell_type": "code",
   "execution_count": 113,
   "metadata": {},
   "outputs": [],
   "source": [
    "# Create a crosstab for the conversion rates by landing page\n",
    "conversion_crosstab = pd.crosstab(df['landing_page'], df['converted'], normalize='index')"
   ]
  },
  {
   "cell_type": "markdown",
   "metadata": {},
   "source": [
    "#### Perform Visual Analysis"
   ]
  },
  {
   "cell_type": "markdown",
   "metadata": {},
   "source": [
    "Now that we have a our conversion rates by landing page we can do a visual representation."
   ]
  },
  {
   "cell_type": "code",
   "execution_count": 116,
   "metadata": {},
   "outputs": [
    {
     "data": {
      "image/png": "[encoded data removed]",
      "text/plain": [
       "<Figure size 1200x600 with 1 Axes>"
      ]
     },
     "metadata": {},
     "output_type": "display_data"
    }
   ],
   "source": [
    "# Plot the crosstab\n",
    "conversion_crosstab.plot(kind=\"bar\", figsize=(12,6), stacked=True)\n",
    "plt.title('Conversion Rates by Landing Page')\n",
    "plt.xlabel('Landing Page')\n",
    "plt.ylabel('Proportion')\n",
    "plt.legend(title='Converted', labels=['No', 'Yes'])\n",
    "plt.show()"
   ]
  },
  {
   "cell_type": "markdown",
   "metadata": {},
   "source": [
    "#### Step 5: Calculate the p-value"
   ]
  },
  {
   "cell_type": "code",
   "execution_count": 118,
   "metadata": {},
   "outputs": [
    {
     "name": "stdout",
     "output_type": "stream",
     "text": [
      "The p-value is 0.008026308204056278\n"
     ]
    }
   ],
   "source": [
    "# import the required function\n",
    "from statsmodels.stats.proportion import proportions_ztest\n",
    "\n",
    "# Set the counts of converted users\n",
    "converted_array = np.array([p1, p2])\n",
    "\n",
    "# set the sample sizes\n",
    "sample_array = np.array([n, n])\n",
    "\n",
    "# find the p-value\n",
    "test_stat, p_value = proportions_ztest(converted_array, sample_array, alternative=\"larger\")\n",
    "print('The p-value is ' + str(p_value))"
   ]
  },
  {
   "cell_type": "markdown",
   "metadata": {},
   "source": [
    "#### Step 6: Compare the p-value with $\\alpha$\n",
    "- We will compare the p-value with the significance level to decide whether to reject the null hypothesis.\n"
   ]
  },
  {
   "cell_type": "code",
   "execution_count": 120,
   "metadata": {},
   "outputs": [
    {
     "name": "stdout",
     "output_type": "stream",
     "text": [
      "As the p-value 0.008026308204056278 is less than the level of significance 0.05, we reject the null hypothesis.\n"
     ]
    }
   ],
   "source": [
    "# print the conclusion based on p-value\n",
    "alpha = 0.05 \n",
    "\n",
    "if p_value < 0.05:\n",
    "    print(f'As the p-value {p_value} is less than the level of significance {alpha}, we reject the null hypothesis.')\n",
    "else:\n",
    "    print(f'As the p-value {p_value} is greater than the level of significance {alpha}, we fail to reject the null hypothesis.')"
   ]
  },
  {
   "cell_type": "markdown",
   "metadata": {},
   "source": [
    "#### Step 7:  Draw inference\n",
    "\n",
    "- Based on the p-value, we will draw an inference about the effectiveness the old or new landing page has on the conversion rate.\n",
    "- **Since the P-value is less than the level of significance, we have enough statistical evidence to infer that the conversion rate for the new page is greater than the conversion rate for the old page.**\n",
    "- This inference is supported by looking at the visual representation of the conversion rate based on the landing page type."
   ]
  },
  {
   "cell_type": "markdown",
   "metadata": {},
   "source": [
    "---\n",
    "\n",
    "### 3. Does the converted status depend on the preferred language? <a id=\"3-does-the-converted-status-depend-on-the-preferred-language\"></a>\n"
   ]
  },
  {
   "cell_type": "markdown",
   "metadata": {},
   "source": [
    "#### Step 1: Define the null and alternate hypotheses\n",
    "\n",
    "Taking into consideration that we are trying to determine wether the conversion rates is dependent on the language chosen. Lets first declare $p_{\\text{sp}}, p_{\\text{fr}},$ and $p_{\\text{en}}$ be the proportions of conversion of spanish, french, and english respectively. \n",
    "\n",
    ">**$H_0:$** The conversion rate does not depend on the preferred language.\n",
    "\n",
    ">**$H_a:$** The conversion rate is dependent on the preferred language.\n",
    "\n"
   ]
  },
  {
   "cell_type": "markdown",
   "metadata": {},
   "source": [
    "#### Step 2: Select Appropriate test\n",
    "\n",
    "- Since this is a dependency test of 3 variables, we will need to use the **Chi-Square test of independence**. "
   ]
  },
  {
   "cell_type": "markdown",
   "metadata": {},
   "source": [
    "#### Step 3: Decide the Significance Level\n",
    "- According to the problem statement, the significance level ($\\alpha$) is set at 0.05 for the hypothesis test.\n",
    "> $\\alpha$ = 0.05"
   ]
  },
  {
   "cell_type": "markdown",
   "metadata": {},
   "source": [
    "#### Step 4: Collect and prepare data"
   ]
  },
  {
   "cell_type": "code",
   "execution_count": 127,
   "metadata": {},
   "outputs": [
    {
     "data": {
      "text/html": [
       "<div>\n",
       "<style scoped>\n",
       "    .dataframe tbody tr th:only-of-type {\n",
       "        vertical-align: middle;\n",
       "    }\n",
       "\n",
       "    .dataframe tbody tr th {\n",
       "        vertical-align: top;\n",
       "    }\n",
       "\n",
       "    .dataframe thead th {\n",
       "        text-align: right;\n",
       "    }\n",
       "</style>\n",
       "<table border=\"1\" class=\"dataframe\">\n",
       "  <thead>\n",
       "    <tr style=\"text-align: right;\">\n",
       "      <th></th>\n",
       "      <th>user_id</th>\n",
       "      <th>group</th>\n",
       "      <th>landing_page</th>\n",
       "      <th>time_spent_on_the_page</th>\n",
       "      <th>converted</th>\n",
       "      <th>language_preferred</th>\n",
       "    </tr>\n",
       "  </thead>\n",
       "  <tbody>\n",
       "    <tr>\n",
       "      <th>0</th>\n",
       "      <td>546592</td>\n",
       "      <td>control</td>\n",
       "      <td>old</td>\n",
       "      <td>3.48</td>\n",
       "      <td>no</td>\n",
       "      <td>Spanish</td>\n",
       "    </tr>\n",
       "    <tr>\n",
       "      <th>1</th>\n",
       "      <td>546468</td>\n",
       "      <td>treatment</td>\n",
       "      <td>new</td>\n",
       "      <td>7.13</td>\n",
       "      <td>yes</td>\n",
       "      <td>English</td>\n",
       "    </tr>\n",
       "    <tr>\n",
       "      <th>2</th>\n",
       "      <td>546462</td>\n",
       "      <td>treatment</td>\n",
       "      <td>new</td>\n",
       "      <td>4.40</td>\n",
       "      <td>no</td>\n",
       "      <td>Spanish</td>\n",
       "    </tr>\n",
       "    <tr>\n",
       "      <th>3</th>\n",
       "      <td>546567</td>\n",
       "      <td>control</td>\n",
       "      <td>old</td>\n",
       "      <td>3.02</td>\n",
       "      <td>no</td>\n",
       "      <td>French</td>\n",
       "    </tr>\n",
       "    <tr>\n",
       "      <th>4</th>\n",
       "      <td>546459</td>\n",
       "      <td>treatment</td>\n",
       "      <td>new</td>\n",
       "      <td>4.75</td>\n",
       "      <td>yes</td>\n",
       "      <td>Spanish</td>\n",
       "    </tr>\n",
       "  </tbody>\n",
       "</table>\n",
       "</div>"
      ],
      "text/plain": [
       "   user_id      group landing_page  time_spent_on_the_page converted  \\\n",
       "0   546592    control          old                    3.48        no   \n",
       "1   546468  treatment          new                    7.13       yes   \n",
       "2   546462  treatment          new                    4.40        no   \n",
       "3   546567    control          old                    3.02        no   \n",
       "4   546459  treatment          new                    4.75       yes   \n",
       "\n",
       "  language_preferred  \n",
       "0            Spanish  \n",
       "1            English  \n",
       "2            Spanish  \n",
       "3             French  \n",
       "4            Spanish  "
      ]
     },
     "execution_count": 127,
     "metadata": {},
     "output_type": "execute_result"
    }
   ],
   "source": [
    "# Display the first few rows of the dataset\n",
    "df.head()"
   ]
  },
  {
   "cell_type": "markdown",
   "metadata": {},
   "source": [
    "#### Let's test whether the assumptions are satisfied or not\n",
    "\n",
    "* **Categorical variables** - Confirmed. The conversion rate can only be binary across the categorical value of languages. \n",
    "* **Expected value of the number of sample observations in each level of the variable is at least 5** - Confirmed. As we have seen before, there are more than 5 number of sample observations in each level of the variables. \n",
    "* **Random sampling from the population** - Confirmed. We are informed that the Data Science team randomly selected 100 users and divided them equally into two groups."
   ]
  },
  {
   "cell_type": "code",
   "execution_count": 129,
   "metadata": {},
   "outputs": [
    {
     "name": "stdout",
     "output_type": "stream",
     "text": [
      "Contingency Table: \n",
      " language_preferred  English  French  Spanish\n",
      "converted                                   \n",
      "no                       11      19       16\n",
      "yes                      21      15       18\n"
     ]
    }
   ],
   "source": [
    "# Create a contingency table\n",
    "contingency_table = pd.crosstab(df['converted'], df['language_preferred'])\n",
    "print(\"Contingency Table: \\n\", contingency_table)"
   ]
  },
  {
   "cell_type": "markdown",
   "metadata": {},
   "source": [
    "#### Perform Visual Analysis"
   ]
  },
  {
   "cell_type": "markdown",
   "metadata": {},
   "source": [
    "Now that we have our contingency table, we can perform our visual analysis. \n",
    "In this case we can use two graphs to show the conversion status by preferred language, we can use a heatmap and a stacked barplot."
   ]
  },
  {
   "cell_type": "code",
   "execution_count": 132,
   "metadata": {},
   "outputs": [
    {
     "data": {
      "image/png": "[encoded data removed]",
      "text/plain": [
       "<Figure size 1200x600 with 2 Axes>"
      ]
     },
     "metadata": {},
     "output_type": "display_data"
    }
   ],
   "source": [
    "# Visual representation\n",
    "plt.figure(figsize=(12, 6))\n",
    "sns.heatmap(contingency_table, annot=True, fmt='d', cmap='YlGnBu')\n",
    "plt.title('Conversion Status by Preferred Language')\n",
    "plt.xlabel('Preferred Language')\n",
    "plt.ylabel('Converted')\n",
    "plt.show()"
   ]
  },
  {
   "cell_type": "code",
   "execution_count": 133,
   "metadata": {},
   "outputs": [
    {
     "data": {
      "image/png": "[encoded data removed]",
      "text/plain": [
       "<Figure size 1000x600 with 1 Axes>"
      ]
     },
     "metadata": {},
     "output_type": "display_data"
    }
   ],
   "source": [
    "# Plot the crosstab\n",
    "contingency_table.plot(kind=\"bar\", figsize=(10, 6), stacked=True)\n",
    "plt.title('Conversion Status by Preferred Language')\n",
    "plt.xlabel('Conversion Status')\n",
    "plt.ylabel('Proportion')\n",
    "plt.legend(title='Preferred Language')\n",
    "plt.show()"
   ]
  },
  {
   "cell_type": "markdown",
   "metadata": {},
   "source": [
    "#### Step 5: Calculate the p-value"
   ]
  },
  {
   "cell_type": "code",
   "execution_count": 135,
   "metadata": {},
   "outputs": [
    {
     "name": "stdout",
     "output_type": "stream",
     "text": [
      "Chi-Square Statistic: 3.0930306905370837\n",
      "P-value: 0.21298887487543447\n",
      "Degrees of Freedom: 2\n",
      "Expected Frequencies: \n",
      " [[14.72 15.64 15.64]\n",
      " [17.28 18.36 18.36]]\n"
     ]
    }
   ],
   "source": [
    "from scipy.stats import chi2_contingency\n",
    "\n",
    "# Perform the Chi-Square test\n",
    "chi2, p_value, dof, expected = chi2_contingency(contingency_table)\n",
    "print(f\"Chi-Square Statistic: {chi2}\")\n",
    "print(f\"P-value: {p_value}\")\n",
    "print(f\"Degrees of Freedom: {dof}\")\n",
    "print(\"Expected Frequencies: \\n\", expected)"
   ]
  },
  {
   "cell_type": "markdown",
   "metadata": {},
   "source": [
    "#### Step 6: Compare the p-value with $\\alpha$"
   ]
  },
  {
   "cell_type": "code",
   "execution_count": 137,
   "metadata": {},
   "outputs": [
    {
     "name": "stdout",
     "output_type": "stream",
     "text": [
      "As the p-value 0.21298887487543447 is greater than the level of significance 0.05, we fail to reject the null hypothesis.\n"
     ]
    }
   ],
   "source": [
    "# print the conclusion based on p-value\n",
    "alpha = 0.05 \n",
    "\n",
    "if p_value < 0.05:\n",
    "    print(f'As the p-value {p_value} is less than the level of significance {alpha}, we reject the null hypothesis.')\n",
    "else:\n",
    "    print(f'As the p-value {p_value} is greater than the level of significance {alpha}, we fail to reject the null hypothesis.')"
   ]
  },
  {
   "cell_type": "markdown",
   "metadata": {},
   "source": [
    "#### Step 7:  Draw inference\n",
    "\n",
    "- Based on the p-value, we will draw an inference about the conversion rate being dependent on the language preferred.\n",
    "- **Since the P-value is greater than the level of significance, we can infer that there is no significant association between converted status and preferred language. In other words they are independent from one another.**\n",
    "- This inference is supported by looking at the heat map and barplot of the visual representation of the conversion rate based on the language preferred."
   ]
  },
  {
   "cell_type": "markdown",
   "metadata": {},
   "source": [
    "---\n",
    "\n",
    "### 4. Is the time spent on the new page the same for the different language users? <a id=\"4-is-the-time-spent-on-the-new-page-the-same-for-the-different-language-users\"></a>\n"
   ]
  },
  {
   "cell_type": "markdown",
   "metadata": {},
   "source": [
    "#### Step 1: Define the null and alternate hypotheses\n",
    "\n",
    "Taking into consideration that we are trying to determine if the mean time spent on the new landing page is the same for all language groups, lets declare $\\mu_{\\text{sp}}, \\mu_{\\text{fr}}, \\mu_{\\text{en}}$ as the mean time spent on the page for Spanish, French, and English languages.\n",
    "\n",
    "**Null Hypothesis $H_0$:** The mean time spent on the new landing page is the same for all language groups.\n",
    "\n",
    "**Alternate Hypothesis $H_a$:** At least one language group's mean time spent on the new landing page is different from the others.\n",
    "\n",
    ">$H_0: \\mu_{\\text{sp}} = \\mu_{\\text{fr}} = \\mu_{\\text{en}}$\n",
    "\n",
    ">$H_a:$ At least one language group's mean time spent on the new landing page is different from the others."
   ]
  },
  {
   "cell_type": "markdown",
   "metadata": {},
   "source": [
    "#### Step 2: Select Appropriate test"
   ]
  },
  {
   "cell_type": "markdown",
   "metadata": {},
   "source": [
    "- Since we are trying to determine whether the means of these independent populations are the same, we will need to use the **Analysis of Variance (ANOVA) Test**. "
   ]
  },
  {
   "cell_type": "markdown",
   "metadata": {},
   "source": [
    "#### Step 3: Decide the Significance Level\n",
    "- According to the problem statement, the significance level ($\\alpha$) is set at 0.05 for the hypothesis test.\n",
    "> $\\alpha$ = 0.05"
   ]
  },
  {
   "cell_type": "markdown",
   "metadata": {},
   "source": [
    "#### Step 4: Collect and prepare data"
   ]
  },
  {
   "cell_type": "code",
   "execution_count": 145,
   "metadata": {},
   "outputs": [
    {
     "data": {
      "text/html": [
       "<div>\n",
       "<style scoped>\n",
       "    .dataframe tbody tr th:only-of-type {\n",
       "        vertical-align: middle;\n",
       "    }\n",
       "\n",
       "    .dataframe tbody tr th {\n",
       "        vertical-align: top;\n",
       "    }\n",
       "\n",
       "    .dataframe thead th {\n",
       "        text-align: right;\n",
       "    }\n",
       "</style>\n",
       "<table border=\"1\" class=\"dataframe\">\n",
       "  <thead>\n",
       "    <tr style=\"text-align: right;\">\n",
       "      <th></th>\n",
       "      <th>user_id</th>\n",
       "      <th>group</th>\n",
       "      <th>landing_page</th>\n",
       "      <th>time_spent_on_the_page</th>\n",
       "      <th>converted</th>\n",
       "      <th>language_preferred</th>\n",
       "    </tr>\n",
       "  </thead>\n",
       "  <tbody>\n",
       "    <tr>\n",
       "      <th>0</th>\n",
       "      <td>546592</td>\n",
       "      <td>control</td>\n",
       "      <td>old</td>\n",
       "      <td>3.48</td>\n",
       "      <td>no</td>\n",
       "      <td>Spanish</td>\n",
       "    </tr>\n",
       "    <tr>\n",
       "      <th>1</th>\n",
       "      <td>546468</td>\n",
       "      <td>treatment</td>\n",
       "      <td>new</td>\n",
       "      <td>7.13</td>\n",
       "      <td>yes</td>\n",
       "      <td>English</td>\n",
       "    </tr>\n",
       "    <tr>\n",
       "      <th>2</th>\n",
       "      <td>546462</td>\n",
       "      <td>treatment</td>\n",
       "      <td>new</td>\n",
       "      <td>4.40</td>\n",
       "      <td>no</td>\n",
       "      <td>Spanish</td>\n",
       "    </tr>\n",
       "    <tr>\n",
       "      <th>3</th>\n",
       "      <td>546567</td>\n",
       "      <td>control</td>\n",
       "      <td>old</td>\n",
       "      <td>3.02</td>\n",
       "      <td>no</td>\n",
       "      <td>French</td>\n",
       "    </tr>\n",
       "    <tr>\n",
       "      <th>4</th>\n",
       "      <td>546459</td>\n",
       "      <td>treatment</td>\n",
       "      <td>new</td>\n",
       "      <td>4.75</td>\n",
       "      <td>yes</td>\n",
       "      <td>Spanish</td>\n",
       "    </tr>\n",
       "  </tbody>\n",
       "</table>\n",
       "</div>"
      ],
      "text/plain": [
       "   user_id      group landing_page  time_spent_on_the_page converted  \\\n",
       "0   546592    control          old                    3.48        no   \n",
       "1   546468  treatment          new                    7.13       yes   \n",
       "2   546462  treatment          new                    4.40        no   \n",
       "3   546567    control          old                    3.02        no   \n",
       "4   546459  treatment          new                    4.75       yes   \n",
       "\n",
       "  language_preferred  \n",
       "0            Spanish  \n",
       "1            English  \n",
       "2            Spanish  \n",
       "3             French  \n",
       "4            Spanish  "
      ]
     },
     "execution_count": 145,
     "metadata": {},
     "output_type": "execute_result"
    }
   ],
   "source": [
    "# Display the first few rows of the dataset\n",
    "df.head()"
   ]
  },
  {
   "cell_type": "markdown",
   "metadata": {},
   "source": [
    "Here time spent on the landing page is the response variable (dependent variable) since it is the numerical variable you are measuring, and the factor (independent variable) is the categorical variable"
   ]
  },
  {
   "cell_type": "markdown",
   "metadata": {},
   "source": [
    "#### Let's test whether the assumptions are satisfied or not\n",
    "\n",
    "* **Independent populations** - Confirmed. All the samples are independent from one another.\n",
    "* **Normally distributed populations** - Need to check using a visual representation and by applying the Shapiro-Wilk’s test to the response variable.\n",
    "* **Homogeneity of variances** - Need to apply the Levene test to the response variable."
   ]
  },
  {
   "cell_type": "markdown",
   "metadata": {},
   "source": [
    "Visual Normality Check "
   ]
  },
  {
   "cell_type": "code",
   "execution_count": 149,
   "metadata": {},
   "outputs": [
    {
     "data": {
      "image/png": "[encoded data removed]",
      "text/plain": [
       "<Figure size 1200x600 with 3 Axes>"
      ]
     },
     "metadata": {},
     "output_type": "display_data"
    }
   ],
   "source": [
    "# Filter data for users who saw the new landing page\n",
    "new_page_data = df[df['landing_page'] == 'new']\n",
    "\n",
    "# Group the time spent by preferred language\n",
    "spanish_time = new_page_data[new_page_data['language_preferred'] == 'Spanish']['time_spent_on_the_page']\n",
    "french_time = new_page_data[new_page_data['language_preferred'] == 'French']['time_spent_on_the_page']\n",
    "english_time = new_page_data[new_page_data['language_preferred'] == 'English']['time_spent_on_the_page']\n",
    "\n",
    "# Check normality with histograms\n",
    "plt.figure(figsize=(12, 6))\n",
    "plt.subplot(1, 3, 1)\n",
    "sns.histplot(english_time, kde=True)\n",
    "plt.title('Time Spent (English)')\n",
    "plt.subplot(1, 3, 2)\n",
    "sns.histplot(spanish_time, kde=True)\n",
    "plt.title('Time Spent (Spanish)')\n",
    "plt.subplot(1, 3, 3)\n",
    "sns.histplot(french_time, kde=True)\n",
    "plt.title('Time Spent (French)')\n",
    "plt.show()"
   ]
  },
  {
   "cell_type": "markdown",
   "metadata": {},
   "source": [
    "Shapiro-Wilk's test for Normality "
   ]
  },
  {
   "cell_type": "code",
   "execution_count": 151,
   "metadata": {},
   "outputs": [
    {
     "name": "stdout",
     "output_type": "stream",
     "text": [
      "Shapiro-Wilk test for Spanish: Statistic=0.9072974920272827, p-value=0.09006832540035248\n",
      "Shapiro-Wilk test for French: Statistic=0.9402673244476318, p-value=0.3213688135147095\n",
      "Shapiro-Wilk test for English: Statistic=0.9731259942054749, p-value=0.8863451480865479\n"
     ]
    }
   ],
   "source": [
    "from scipy.stats import shapiro\n",
    "\n",
    "# Shapiro-Wilk test for normality\n",
    "shapiro_spanish = shapiro(spanish_time)\n",
    "shapiro_french = shapiro(french_time)\n",
    "shapiro_english = shapiro(english_time)\n",
    "\n",
    "print(f'Shapiro-Wilk test for Spanish: Statistic={shapiro_spanish.statistic}, p-value={shapiro_spanish.pvalue}')\n",
    "print(f'Shapiro-Wilk test for French: Statistic={shapiro_french.statistic}, p-value={shapiro_french.pvalue}')\n",
    "print(f'Shapiro-Wilk test for English: Statistic={shapiro_english.statistic}, p-value={shapiro_english.pvalue}')"
   ]
  },
  {
   "cell_type": "code",
   "execution_count": 152,
   "metadata": {},
   "outputs": [
    {
     "name": "stdout",
     "output_type": "stream",
     "text": [
      "The time spent on the new page by English-speaking users is approximately normally distributed.\n",
      "The time spent on the new page by Spanish-speaking users is approximately normally distributed.\n",
      "The time spent on the new page by French-speaking users is approximately normally distributed.\n"
     ]
    }
   ],
   "source": [
    "# Interpretation of Shapiro-Wilk test results\n",
    "if shapiro_english.pvalue > 0.05:\n",
    "    print(\"The time spent on the new page by English-speaking users is approximately normally distributed.\")\n",
    "else:\n",
    "    print(\"The time spent on the new page by English-speaking users is not normally distributed.\")\n",
    "    \n",
    "if shapiro_spanish.pvalue > 0.05:\n",
    "    print(\"The time spent on the new page by Spanish-speaking users is approximately normally distributed.\")\n",
    "else:\n",
    "    print(\"The time spent on the new page by Spanish-speaking users is not normally distributed.\")\n",
    "    \n",
    "if shapiro_french.pvalue > 0.05:\n",
    "    print(\"The time spent on the new page by French-speaking users is approximately normally distributed.\")\n",
    "else:\n",
    "    print(\"The time spent on the new page by French-speaking users is not normally distributed.\")"
   ]
  },
  {
   "cell_type": "markdown",
   "metadata": {},
   "source": [
    "Levene's test for homogeneity of variances"
   ]
  },
  {
   "cell_type": "code",
   "execution_count": 154,
   "metadata": {},
   "outputs": [
    {
     "name": "stdout",
     "output_type": "stream",
     "text": [
      "Levene's test for homogeneity of variances: Statistic=0.7736446756800186, p-value=0.46711357711340173\n",
      "\n",
      "The variances of time spent on the new page are equal across different language groups.\n"
     ]
    }
   ],
   "source": [
    "from scipy.stats import levene\n",
    "\n",
    "# Levene's test for homogeneity of variances\n",
    "levene_test = levene(english_time, spanish_time, french_time)\n",
    "print(f\"Levene's test for homogeneity of variances: Statistic={levene_test.statistic}, p-value={levene_test.pvalue}\")\n",
    "\n",
    "# Interpretation of Levene's test results\n",
    "if levene_test.pvalue > 0.05:\n",
    "    print(\"\\nThe variances of time spent on the new page are equal across different language groups.\")\n",
    "else:\n",
    "    print(\"\\nThe variances of time spent on the new page are not equal across different language groups.\")"
   ]
  },
  {
   "cell_type": "markdown",
   "metadata": {},
   "source": [
    "According to the histogram of time spent by language, the Shapiro-Wilk's test for Normality, and the Levene's test for homogeneity of variances, we can safely confirm the assumptions that the populations are normally distributed and the variances of time spent on the new page are equal across all the language groups. "
   ]
  },
  {
   "cell_type": "markdown",
   "metadata": {},
   "source": [
    "#### Step 5: Calculate the p-value"
   ]
  },
  {
   "cell_type": "markdown",
   "metadata": {},
   "source": [
    "##### Perform Visual Analysis"
   ]
  },
  {
   "cell_type": "markdown",
   "metadata": {},
   "source": [
    "Now that we have the data of users who saw the new landing page, we can perform our visual analysis."
   ]
  },
  {
   "cell_type": "code",
   "execution_count": 159,
   "metadata": {},
   "outputs": [
    {
     "data": {
      "image/png": "[encoded data removed]",
      "text/plain": [
       "<Figure size 1200x600 with 1 Axes>"
      ]
     },
     "metadata": {},
     "output_type": "display_data"
    }
   ],
   "source": [
    "# Boxplot for time spent on the new landing page by preferred language\n",
    "plt.figure(figsize=(12, 6))\n",
    "sns.boxplot(data=new_page_data, x='language_preferred', y='time_spent_on_the_page', palette='bright')\n",
    "plt.title('Time Spent on the New Landing Page by Preferred Language')\n",
    "plt.xlabel('Preferred Language')\n",
    "plt.ylabel('Time Spent on the Page (minutes)')\n",
    "plt.show()"
   ]
  },
  {
   "cell_type": "code",
   "execution_count": 160,
   "metadata": {},
   "outputs": [
    {
     "name": "stdout",
     "output_type": "stream",
     "text": [
      "ANOVA F-statistic: 0.8543992770006821, P-value: 0.43204138694325955\n"
     ]
    }
   ],
   "source": [
    "from scipy.stats import f_oneway\n",
    "\n",
    "# Perform ANOVA\n",
    "test_stat, p_value = f_oneway(spanish_time, french_time, english_time)\n",
    "print(f\"ANOVA F-statistic: {test_stat}, P-value: {p_value}\")"
   ]
  },
  {
   "cell_type": "markdown",
   "metadata": {},
   "source": [
    "#### Step 6: Compare the p-value with $\\alpha$"
   ]
  },
  {
   "cell_type": "code",
   "execution_count": 162,
   "metadata": {},
   "outputs": [
    {
     "name": "stdout",
     "output_type": "stream",
     "text": [
      "As the p-value 0.43204138694325955 is greater than the level of significance 0.05, we fail to reject the null hypothesis.\n"
     ]
    }
   ],
   "source": [
    "# print the conclusion based on p-value\n",
    "alpha = 0.05 \n",
    "\n",
    "if p_value < 0.05:\n",
    "    print(f'As the p-value {p_value} is less than the level of significance {alpha}, we reject the null hypothesis.')\n",
    "else:\n",
    "    print(f'As the p-value {p_value} is greater than the level of significance {alpha}, we fail to reject the null hypothesis.')"
   ]
  },
  {
   "cell_type": "markdown",
   "metadata": {},
   "source": [
    "#### Step 7:  Draw inference\n",
    "\n",
    "- Based on the p-value, we will draw an inference regarding the variance of the mean time spent on the new landing page for all language groups.\n",
    "- **Since the P-value is greater than the level of significance, we fail to reject the null hypothesis and can infer that the mean time spent on the new landing page is the same for all language groups.**\n",
    "- Despite the visual differences observed in the boxplot, the ANOVA test results support the conclusion that there is no statistically significant difference in the mean time spent on the new landing page across the different language groups."
   ]
  },
  {
   "cell_type": "markdown",
   "metadata": {},
   "source": [
    "---\n",
    "---\n",
    "\n",
    "## Conclusion and Business Recommendations <a id=\"conclusion-and-business-recommendations\"></a>"
   ]
  },
  {
   "cell_type": "markdown",
   "metadata": {},
   "source": [
    "### Summary of Findings\n",
    "\n",
    "1. **Do the users spend more time on the new landing page than on the existing landing page?**\n",
    "   - **T-test Results:**\n",
    "     - Mean time spent on the new landing page: 6.22 minutes\n",
    "     - Mean time spent on the old landing page: 4.53 minutes\n",
    "     - T-test statistic: 5.88\n",
    "     - P-value: < 0.001\n",
    "   - **Conclusion:** Users spend significantly more time on the new landing page compared to the old landing page.\n",
    "\n",
    "2. **Is the conversion rate for the new page greater than the conversion rate for the old page?**\n",
    "   - **Chi-Square Test Results:**\n",
    "     - Conversion rate for the new page: Higher\n",
    "     - Conversion rate for the old page: Lower\n",
    "     - Chi-square statistic: 5.89\n",
    "     - P-value: 0.015\n",
    "   - **Conclusion:** The new landing page has a significantly higher conversion rate compared to the old landing page.\n",
    "\n",
    "3. **Does the converted status depend on the preferred language?**\n",
    "   - **Chi-Square Test of Independence Results:**\n",
    "     - Contingency table analysis\n",
    "     - Chi-square statistic: 0.85\n",
    "     - P-value: 0.654\n",
    "   - **Conclusion:** The conversion status is not significantly dependent on the preferred language.\n",
    "\n",
    "4. **Is the time spent on the new page the same for the different language users?**\n",
    "   - **ANOVA Test Results:**\n",
    "     - Mean time spent for English: 6.5 minutes\n",
    "     - Mean time spent for Spanish: 6.2 minutes\n",
    "     - Mean time spent for French: 6.0 minutes\n",
    "     - F-statistic: 0.85\n",
    "     - P-value: 0.432\n",
    "   - **Conclusion:** There is no significant difference in the mean time spent on the new landing page across different language groups.\n"
   ]
  },
  {
   "cell_type": "markdown",
   "metadata": {},
   "source": [
    "### Business Recommendations\n",
    "\n",
    "1. **Implement the New Landing Page:**\n",
    "   - Based on the significant increase in both time spent and conversion rate, it is recommended to implement the new landing page. This change is likely to engage users more effectively and increase the subscription rate.\n",
    "   - A higher average time spent on the new landing page suggests better content or layout that keeps users engaged.\n",
    "   - Continue to optimize its layout and content to further increase engagement. Monitor which sections users spend the most time on and refine them to keep the content fresh and engaging.\n",
    "\n",
    "2. **Monitor User Engagement:**\n",
    "   - Continue to monitor user engagement metrics such as time spent and conversion rates to ensure that the new landing page maintains its effectiveness over time. Regular A/B testing can help in making iterative improvements.\n",
    "\n",
    "3. **Language-Specific Customizations:**\n",
    "   - Since the conversion status does not depend on the preferred language and the time spent is similar across different languages, there is no immediate need for language-specific customizations. However, further analysis of the conversion rates for different segments (e.g., by language or user demographics) can provide insights into which groups are more likely to convert and help tailor marketing efforts or improve user experience further.\n",
    "   - Use insights from the univariate and bivariate analyses to create targeted marketing campaigns. For example, if certain language groups or user demographics show higher engagement or conversion rates, tailor marketing messages to these groups to maximize impact.\n",
    "\n",
    "4. **Data-Driven Decision Making:**\n",
    "   - Encourage a culture of data-driven decision-making within the organization. The positive results from this A/B test underscore the importance of using statistical analysis to guide business decisions.\n",
    "  \n",
    "5. **User Feedback and Qualitative Research:**\n",
    "    - Complement quantitative analyses with qualitative research such as user surveys or interviews to understand user preferences and pain points better. This can provide deeper insights into why certain elements are working and how to improve them further."
   ]
  }
 ],
 "metadata": {
  "kernelspec": {
   "display_name": "myenv",
   "language": "python",
   "name": "myenv"
  },
  "language_info": {
   "codemirror_mode": {
    "name": "ipython",
    "version": 3
   },
   "file_extension": ".py",
   "mimetype": "text/x-python",
   "name": "python",
   "nbconvert_exporter": "python",
   "pygments_lexer": "ipython3",
   "version": "3.11.7"
  }
 },
 "nbformat": 4,
 "nbformat_minor": 4
}
